{
 "cells": [
  {
   "cell_type": "code",
   "execution_count": 1,
   "metadata": {},
   "outputs": [],
   "source": [
    "#data wrangling and visualisations\n",
    "import pandas as pd\n",
    "import numpy as np\n",
    "import matplotlib.pyplot as plt\n",
    "import seaborn as sns\n",
    "\n",
    "#Stats\n",
    "from scipy.stats import mannwhitneyu\n",
    "from scipy.stats import kruskal\n",
    "from scipy.stats import spearmanr\n",
    "from scipy.stats import pearsonr\n",
    "import scikit_posthocs as sp\n",
    "from scipy.stats import kstest as KS\n",
    "from scipy.stats import shapiro\n",
    "\n",
    "%matplotlib inline"
   ]
  },
  {
   "cell_type": "code",
   "execution_count": 2,
   "metadata": {},
   "outputs": [
    {
     "name": "stdout",
     "output_type": "stream",
     "text": [
      "3.6.4 |Anaconda, Inc.| (default, Jan 16 2018, 10:22:32) [MSC v.1900 64 bit (AMD64)]\n",
      "Pandas:  0.24.1\n",
      "Numpy:  1.16.1\n",
      "Scikit_Posthocs:  0.4.0\n",
      "Scipy:  1.2.1\n"
     ]
    }
   ],
   "source": [
    "#Check for versions\n",
    "\n",
    "import scipy\n",
    "import sys\n",
    "\n",
    "print(sys.version)\n",
    "print('Pandas: ', pd.__version__)\n",
    "print('Numpy: ', np.__version__)\n",
    "print('Scikit_Posthocs: ', sp.__version__)\n",
    "print('Scipy: ', scipy.__version__)"
   ]
  },
  {
   "cell_type": "code",
   "execution_count": 3,
   "metadata": {},
   "outputs": [],
   "source": [
    "#Read in the data\n",
    "data = pd.read_excel('Farmers training coding book.xlsx', na_values= 99)"
   ]
  },
  {
   "cell_type": "code",
   "execution_count": 4,
   "metadata": {},
   "outputs": [
    {
     "data": {
      "text/html": [
       "<div>\n",
       "<style scoped>\n",
       "    .dataframe tbody tr th:only-of-type {\n",
       "        vertical-align: middle;\n",
       "    }\n",
       "\n",
       "    .dataframe tbody tr th {\n",
       "        vertical-align: top;\n",
       "    }\n",
       "\n",
       "    .dataframe thead th {\n",
       "        text-align: right;\n",
       "    }\n",
       "</style>\n",
       "<table border=\"1\" class=\"dataframe\">\n",
       "  <thead>\n",
       "    <tr style=\"text-align: right;\">\n",
       "      <th></th>\n",
       "      <th>VA</th>\n",
       "      <th>V1</th>\n",
       "      <th>V2</th>\n",
       "      <th>V3</th>\n",
       "      <th>V4</th>\n",
       "      <th>V5</th>\n",
       "      <th>V6</th>\n",
       "      <th>V7</th>\n",
       "      <th>V8</th>\n",
       "      <th>V9_1</th>\n",
       "      <th>...</th>\n",
       "      <th>P1</th>\n",
       "      <th>P2</th>\n",
       "      <th>P3</th>\n",
       "      <th>P4</th>\n",
       "      <th>P5</th>\n",
       "      <th>P6</th>\n",
       "      <th>P7</th>\n",
       "      <th>Perception</th>\n",
       "      <th>Knowledge</th>\n",
       "      <th>Practice</th>\n",
       "    </tr>\n",
       "  </thead>\n",
       "  <tbody>\n",
       "    <tr>\n",
       "      <th>0</th>\n",
       "      <td>Ota</td>\n",
       "      <td>Yes</td>\n",
       "      <td>AFAN</td>\n",
       "      <td>NaN</td>\n",
       "      <td>51-60</td>\n",
       "      <td>Male</td>\n",
       "      <td>Subsistence farming</td>\n",
       "      <td>Yes</td>\n",
       "      <td>Yes</td>\n",
       "      <td>No</td>\n",
       "      <td>...</td>\n",
       "      <td>0</td>\n",
       "      <td>1</td>\n",
       "      <td>0</td>\n",
       "      <td>1</td>\n",
       "      <td>1</td>\n",
       "      <td>1</td>\n",
       "      <td>1</td>\n",
       "      <td>2.714286</td>\n",
       "      <td>6</td>\n",
       "      <td>5</td>\n",
       "    </tr>\n",
       "    <tr>\n",
       "      <th>1</th>\n",
       "      <td>Ota</td>\n",
       "      <td>Yes</td>\n",
       "      <td>Shalom c</td>\n",
       "      <td>No</td>\n",
       "      <td>41-50</td>\n",
       "      <td>Male</td>\n",
       "      <td>Commercial farming</td>\n",
       "      <td>Yes</td>\n",
       "      <td>Yes</td>\n",
       "      <td>No</td>\n",
       "      <td>...</td>\n",
       "      <td>1</td>\n",
       "      <td>0</td>\n",
       "      <td>0</td>\n",
       "      <td>0</td>\n",
       "      <td>1</td>\n",
       "      <td>1</td>\n",
       "      <td>1</td>\n",
       "      <td>2.714286</td>\n",
       "      <td>2</td>\n",
       "      <td>4</td>\n",
       "    </tr>\n",
       "    <tr>\n",
       "      <th>2</th>\n",
       "      <td>Ota</td>\n",
       "      <td>Yes</td>\n",
       "      <td>Shalom c</td>\n",
       "      <td>No</td>\n",
       "      <td>41-50</td>\n",
       "      <td>Male</td>\n",
       "      <td>Commercial farming</td>\n",
       "      <td>No</td>\n",
       "      <td>Yes</td>\n",
       "      <td>No</td>\n",
       "      <td>...</td>\n",
       "      <td>1</td>\n",
       "      <td>0</td>\n",
       "      <td>0</td>\n",
       "      <td>0</td>\n",
       "      <td>1</td>\n",
       "      <td>1</td>\n",
       "      <td>0</td>\n",
       "      <td>1.333333</td>\n",
       "      <td>2</td>\n",
       "      <td>3</td>\n",
       "    </tr>\n",
       "    <tr>\n",
       "      <th>3</th>\n",
       "      <td>Ota</td>\n",
       "      <td>Yes</td>\n",
       "      <td>AFAN</td>\n",
       "      <td>No</td>\n",
       "      <td>61 and above</td>\n",
       "      <td>Female</td>\n",
       "      <td>Commercial farming</td>\n",
       "      <td>Yes</td>\n",
       "      <td>Yes</td>\n",
       "      <td>No</td>\n",
       "      <td>...</td>\n",
       "      <td>0</td>\n",
       "      <td>1</td>\n",
       "      <td>1</td>\n",
       "      <td>0</td>\n",
       "      <td>1</td>\n",
       "      <td>1</td>\n",
       "      <td>1</td>\n",
       "      <td>1.857143</td>\n",
       "      <td>6</td>\n",
       "      <td>5</td>\n",
       "    </tr>\n",
       "    <tr>\n",
       "      <th>4</th>\n",
       "      <td>Ota</td>\n",
       "      <td>No</td>\n",
       "      <td>NaN</td>\n",
       "      <td>No</td>\n",
       "      <td>41-50</td>\n",
       "      <td>Male</td>\n",
       "      <td>Subsistence farming</td>\n",
       "      <td>No</td>\n",
       "      <td>Yes</td>\n",
       "      <td>No</td>\n",
       "      <td>...</td>\n",
       "      <td>1</td>\n",
       "      <td>0</td>\n",
       "      <td>0</td>\n",
       "      <td>0</td>\n",
       "      <td>1</td>\n",
       "      <td>1</td>\n",
       "      <td>1</td>\n",
       "      <td>3.166667</td>\n",
       "      <td>3</td>\n",
       "      <td>4</td>\n",
       "    </tr>\n",
       "  </tbody>\n",
       "</table>\n",
       "<p>5 rows × 87 columns</p>\n",
       "</div>"
      ],
      "text/plain": [
       "    VA   V1        V2   V3            V4      V5                   V6   V7  \\\n",
       "0  Ota  Yes      AFAN  NaN         51-60    Male  Subsistence farming  Yes   \n",
       "1  Ota  Yes  Shalom c   No         41-50    Male   Commercial farming  Yes   \n",
       "2  Ota  Yes  Shalom c   No         41-50    Male   Commercial farming   No   \n",
       "3  Ota  Yes      AFAN   No  61 and above  Female   Commercial farming  Yes   \n",
       "4  Ota   No       NaN   No         41-50    Male  Subsistence farming   No   \n",
       "\n",
       "    V8 V9_1  ... P1 P2 P3 P4 P5 P6 P7 Perception Knowledge Practice  \n",
       "0  Yes   No  ...  0  1  0  1  1  1  1   2.714286         6        5  \n",
       "1  Yes   No  ...  1  0  0  0  1  1  1   2.714286         2        4  \n",
       "2  Yes   No  ...  1  0  0  0  1  1  0   1.333333         2        3  \n",
       "3  Yes   No  ...  0  1  1  0  1  1  1   1.857143         6        5  \n",
       "4  Yes   No  ...  1  0  0  0  1  1  1   3.166667         3        4  \n",
       "\n",
       "[5 rows x 87 columns]"
      ]
     },
     "execution_count": 4,
     "metadata": {},
     "output_type": "execute_result"
    }
   ],
   "source": [
    "#Check Read\n",
    "data.head()"
   ]
  },
  {
   "cell_type": "code",
   "execution_count": 5,
   "metadata": {},
   "outputs": [],
   "source": [
    "#Drop perception column\n",
    "data.drop('Perception', axis=1, inplace=True)"
   ]
  },
  {
   "cell_type": "markdown",
   "metadata": {},
   "source": [
    "### Farmer (Participants) Characterisitcs"
   ]
  },
  {
   "cell_type": "code",
   "execution_count": 6,
   "metadata": {},
   "outputs": [
    {
     "name": "stdout",
     "output_type": "stream",
     "text": [
      "Abeokuta    64\n",
      "Ota         37\n",
      "Name: VA, dtype: int64\n",
      "Abeokuta    63.366337\n",
      "Ota         36.633663\n",
      "Name: VA, dtype: float64\n"
     ]
    }
   ],
   "source": [
    "#Percentage of responses from different trainings\n",
    "print(data['VA'].value_counts())\n",
    "print(data['VA'].value_counts(normalize=True) * 100)"
   ]
  },
  {
   "cell_type": "code",
   "execution_count": 7,
   "metadata": {},
   "outputs": [
    {
     "name": "stdout",
     "output_type": "stream",
     "text": [
      "Farmers Asscoaiton\n",
      "Yes    77\n",
      "No     22\n",
      "Name: V1, dtype: int64\n",
      "Yes    0.777778\n",
      "No     0.222222\n",
      "Name: V1, dtype: float64\n",
      "---\n",
      "Extesnsion Visit\n",
      "No     63\n",
      "Yes    31\n",
      "Name: V3, dtype: int64\n",
      "No     0.670213\n",
      "Yes    0.329787\n",
      "Name: V3, dtype: float64\n",
      "---\n",
      "Age Group\n",
      "41-50           30\n",
      "51-60           26\n",
      "31-40           24\n",
      "61 and above    17\n",
      "20-30            3\n",
      "below 20         1\n",
      "Name: V4, dtype: int64\n",
      "41-50           0.297030\n",
      "51-60           0.257426\n",
      "31-40           0.237624\n",
      "61 and above    0.168317\n",
      "20-30           0.029703\n",
      "below 20        0.009901\n",
      "Name: V4, dtype: float64\n",
      "---\n",
      "Gender\n",
      "Male      80\n",
      "Female    21\n",
      "Name: V5, dtype: int64\n",
      "Male      0.792079\n",
      "Female    0.207921\n",
      "Name: V5, dtype: float64\n",
      "---\n",
      "Farming Practice\n",
      "Commercial farming     68\n",
      "Subsistence farming    28\n",
      "Name: V6, dtype: int64\n",
      "Commercial farming     0.708333\n",
      "Subsistence farming    0.291667\n",
      "Name: V6, dtype: float64\n",
      "---\n",
      "Previous Training\n",
      "Yes    60\n",
      "No     39\n",
      "Name: V7, dtype: int64\n",
      "Yes    0.606061\n",
      "No     0.393939\n",
      "Name: V7, dtype: float64\n",
      "---\n",
      "Multi-Cropping\n",
      "Yes    68\n",
      "No     25\n",
      "Name: V28, dtype: int64\n",
      "Yes    0.731183\n",
      "No     0.268817\n",
      "Name: V28, dtype: float64\n",
      "---\n"
     ]
    }
   ],
   "source": [
    "#Sumamry statistics for some farmer characteristcs\n",
    "cols =['V1','V3','V4', 'V5', 'V6', 'V7','V28']\n",
    "labels=['Farmers Asscoaiton', 'Extesnsion Visit', 'Age Group', 'Gender', 'Farming Practice', 'Previous Training',\n",
    "       'Multi-Cropping']\n",
    "n=0\n",
    "for i in cols:\n",
    "    a=data[i].value_counts()\n",
    "    b=data[i].value_counts(normalize=True)\n",
    "    print(labels[n])\n",
    "    print(a)\n",
    "    print(b)\n",
    "    print('---')\n",
    "    n=n+1"
   ]
  },
  {
   "cell_type": "code",
   "execution_count": 8,
   "metadata": {},
   "outputs": [
    {
     "data": {
      "text/plain": [
       "count    87.000000\n",
       "mean     11.367816\n",
       "std       9.310053\n",
       "min       1.000000\n",
       "25%       4.000000\n",
       "50%      10.000000\n",
       "75%      15.000000\n",
       "max      40.000000\n",
       "Name: V30, dtype: float64"
      ]
     },
     "execution_count": 8,
     "metadata": {},
     "output_type": "execute_result"
    }
   ],
   "source": [
    "# How long have participants being farming cassava\n",
    "data['V30'].describe()"
   ]
  },
  {
   "cell_type": "code",
   "execution_count": 9,
   "metadata": {},
   "outputs": [
    {
     "data": {
      "text/plain": [
       "9.310053259069722"
      ]
     },
     "execution_count": 9,
     "metadata": {},
     "output_type": "execute_result"
    }
   ],
   "source": [
    "data['V30'].agg('std')"
   ]
  },
  {
   "cell_type": "code",
   "execution_count": 10,
   "metadata": {},
   "outputs": [
    {
     "name": "stdout",
     "output_type": "stream",
     "text": [
      "Processed\n",
      "No     50\n",
      "Yes    22\n",
      "Name: V22_1, dtype: int64\n",
      "No     0.694444\n",
      "Yes    0.305556\n",
      "Name: V22_1, dtype: float64\n",
      "---\n",
      "Tuber\n",
      "Yes    78\n",
      "No      8\n",
      "Name: V22_2, dtype: int64\n",
      "Yes    0.906977\n",
      "No     0.093023\n",
      "Name: V22_2, dtype: float64\n"
     ]
    }
   ],
   "source": [
    "# Of the commercial farmers, how do they sell\n",
    "print('Processed')\n",
    "print(data['V22_1'].value_counts())\n",
    "print(data['V22_1'].value_counts(normalize=True))\n",
    "print('---')\n",
    "print('Tuber')\n",
    "print(data['V22_2'].value_counts())\n",
    "print(data['V22_2'].value_counts(normalize=True))"
   ]
  },
  {
   "cell_type": "code",
   "execution_count": 11,
   "metadata": {},
   "outputs": [
    {
     "data": {
      "text/plain": [
       "count    87.000000\n",
       "mean     11.367816\n",
       "std       9.310053\n",
       "min       1.000000\n",
       "25%       4.000000\n",
       "50%      10.000000\n",
       "75%      15.000000\n",
       "max      40.000000\n",
       "Name: V30, dtype: float64"
      ]
     },
     "execution_count": 11,
     "metadata": {},
     "output_type": "execute_result"
    }
   ],
   "source": [
    "# How long have study participants been growing cassava\n",
    "data['V30'].describe()"
   ]
  },
  {
   "cell_type": "code",
   "execution_count": 12,
   "metadata": {},
   "outputs": [
    {
     "data": {
      "text/plain": [
       "<matplotlib.axes._subplots.AxesSubplot at 0x22c60997ba8>"
      ]
     },
     "execution_count": 12,
     "metadata": {},
     "output_type": "execute_result"
    },
    {
     "data": {
      "image/png": "[encoded data removed]",
      "text/plain": [
       "<Figure size 432x288 with 1 Axes>"
      ]
     },
     "metadata": {
      "needs_background": "light"
     },
     "output_type": "display_data"
    }
   ],
   "source": [
    "sns.boxplot(data['V30'])"
   ]
  },
  {
   "cell_type": "code",
   "execution_count": 13,
   "metadata": {},
   "outputs": [
    {
     "data": {
      "text/html": [
       "<div>\n",
       "<style scoped>\n",
       "    .dataframe tbody tr th:only-of-type {\n",
       "        vertical-align: middle;\n",
       "    }\n",
       "\n",
       "    .dataframe tbody tr th {\n",
       "        vertical-align: top;\n",
       "    }\n",
       "\n",
       "    .dataframe thead th {\n",
       "        text-align: right;\n",
       "    }\n",
       "</style>\n",
       "<table border=\"1\" class=\"dataframe\">\n",
       "  <thead>\n",
       "    <tr style=\"text-align: right;\">\n",
       "      <th></th>\n",
       "      <th>count</th>\n",
       "      <th>mean</th>\n",
       "      <th>std</th>\n",
       "    </tr>\n",
       "    <tr>\n",
       "      <th>V4</th>\n",
       "      <th></th>\n",
       "      <th></th>\n",
       "      <th></th>\n",
       "    </tr>\n",
       "  </thead>\n",
       "  <tbody>\n",
       "    <tr>\n",
       "      <th>20-30</th>\n",
       "      <td>3</td>\n",
       "      <td>5.000000</td>\n",
       "      <td>4.582576</td>\n",
       "    </tr>\n",
       "    <tr>\n",
       "      <th>31-40</th>\n",
       "      <td>22</td>\n",
       "      <td>9.409091</td>\n",
       "      <td>8.033614</td>\n",
       "    </tr>\n",
       "    <tr>\n",
       "      <th>41-50</th>\n",
       "      <td>27</td>\n",
       "      <td>12.518519</td>\n",
       "      <td>8.902767</td>\n",
       "    </tr>\n",
       "    <tr>\n",
       "      <th>51-60</th>\n",
       "      <td>19</td>\n",
       "      <td>11.526316</td>\n",
       "      <td>9.558989</td>\n",
       "    </tr>\n",
       "    <tr>\n",
       "      <th>61 and above</th>\n",
       "      <td>15</td>\n",
       "      <td>13.866667</td>\n",
       "      <td>11.734361</td>\n",
       "    </tr>\n",
       "    <tr>\n",
       "      <th>below 20</th>\n",
       "      <td>1</td>\n",
       "      <td>2.000000</td>\n",
       "      <td>NaN</td>\n",
       "    </tr>\n",
       "  </tbody>\n",
       "</table>\n",
       "</div>"
      ],
      "text/plain": [
       "              count       mean        std\n",
       "V4                                       \n",
       "20-30             3   5.000000   4.582576\n",
       "31-40            22   9.409091   8.033614\n",
       "41-50            27  12.518519   8.902767\n",
       "51-60            19  11.526316   9.558989\n",
       "61 and above     15  13.866667  11.734361\n",
       "below 20          1   2.000000        NaN"
      ]
     },
     "execution_count": 13,
     "metadata": {},
     "output_type": "execute_result"
    }
   ],
   "source": [
    "#Years of practice by age group\n",
    "data[['V4','V30']].groupby('V4')['V30'].agg(['count','mean', 'std'])"
   ]
  },
  {
   "cell_type": "code",
   "execution_count": 14,
   "metadata": {},
   "outputs": [],
   "source": [
    "# What were the tubers most frequently processed into?\n",
    "from wordcloud import WordCloud, STOPWORDS, ImageColorGenerator"
   ]
  },
  {
   "cell_type": "code",
   "execution_count": 15,
   "metadata": {},
   "outputs": [],
   "source": [
    "# Recast column to string data type\n",
    "data['V23']= data['V23'].astype('str')"
   ]
  },
  {
   "cell_type": "code",
   "execution_count": 16,
   "metadata": {},
   "outputs": [],
   "source": [
    "stopwords = set(STOPWORDS)\n",
    "stopwords.update(['nan'])"
   ]
  },
  {
   "cell_type": "code",
   "execution_count": 17,
   "metadata": {},
   "outputs": [],
   "source": [
    "#generate wordcloud \n",
    "wordcloud = WordCloud(stopwords=stopwords, background_color='white').generate(' '.join(data['V23']))\n"
   ]
  },
  {
   "cell_type": "code",
   "execution_count": 18,
   "metadata": {},
   "outputs": [
    {
     "data": {
      "text/plain": [
       "Text(0.5, 1.0, 'What participants process cassava into')"
      ]
     },
     "execution_count": 18,
     "metadata": {},
     "output_type": "execute_result"
    },
    {
     "data": {
      "image/png": "[encoded data removed]",
      "text/plain": [
       "<Figure size 432x288 with 1 Axes>"
      ]
     },
     "metadata": {
      "needs_background": "light"
     },
     "output_type": "display_data"
    }
   ],
   "source": [
    "plt.imshow(wordcloud, interpolation='bilinear')\n",
    "plt.title('What participants process cassava into')"
   ]
  },
  {
   "cell_type": "markdown",
   "metadata": {},
   "source": [
    "### a quick look at farmers who multicrop"
   ]
  },
  {
   "cell_type": "code",
   "execution_count": 19,
   "metadata": {},
   "outputs": [
    {
     "name": "stdout",
     "output_type": "stream",
     "text": [
      "Multicropping\n",
      "Yes    68\n",
      "No     25\n",
      "Name: V28, dtype: int64\n",
      "Yes    0.731183\n",
      "No     0.268817\n",
      "Name: V28, dtype: float64\n"
     ]
    }
   ],
   "source": [
    "print('Multicropping')\n",
    "print(data['V28'].value_counts())\n",
    "print(data['V28'].value_counts(normalize=True))"
   ]
  },
  {
   "cell_type": "code",
   "execution_count": 20,
   "metadata": {},
   "outputs": [
    {
     "data": {
      "text/plain": [
       "<matplotlib.image.AxesImage at 0x22c62b6add8>"
      ]
     },
     "execution_count": 20,
     "metadata": {},
     "output_type": "execute_result"
    },
    {
     "data": {
      "image/png": "[encoded data removed]",
      "text/plain": [
       "<Figure size 432x288 with 1 Axes>"
      ]
     },
     "metadata": {
      "needs_background": "light"
     },
     "output_type": "display_data"
    }
   ],
   "source": [
    "# Recast column to string data type\n",
    "data['V29']= data['V29'].astype('str')\n",
    "\n",
    "#generate wordcloud \n",
    "wordcloud2 = WordCloud(stopwords=stopwords, background_color='white').generate(' '.join(data['V29']))\n",
    "plt.title('Crops planted alongside Cassava')\n",
    "\n",
    "plt.imshow(wordcloud2, interpolation='bilinear')"
   ]
  },
  {
   "cell_type": "markdown",
   "metadata": {},
   "source": [
    "## Do knowledge and practice scores come from a normal distribution?"
   ]
  },
  {
   "cell_type": "code",
   "execution_count": 21,
   "metadata": {},
   "outputs": [
    {
     "name": "stdout",
     "output_type": "stream",
     "text": [
      "Shapiro - Wilk Test\n",
      "---\n",
      "Knowledge:  (0.9184457659721375, 1.0623140042298473e-05)\n",
      "Practice:  (0.9060991406440735, 2.506153805370559e-06)\n",
      "\n",
      "Kolmogorov-Smimov Test\n",
      "---\n",
      "Knowledge:  KstestResult(statistic=0.6109132343884545, pvalue=9.850865936069135e-37)\n",
      "Practice:  KstestResult(statistic=0.9376459076557812, pvalue=3.82306384581559e-122)\n"
     ]
    }
   ],
   "source": [
    "# Check if Kowledge and Practice come from a normal distribution\n",
    "# Shapiro-Wilk\n",
    "print('Shapiro - Wilk Test')\n",
    "print('---')\n",
    "print('Knowledge: ', shapiro(data['Knowledge']))\n",
    "print('Practice: ', shapiro(data['Practice']))\n",
    "\n",
    "\n",
    "print()\n",
    "#Kolmogorov-Smimov Test\n",
    "print('Kolmogorov-Smimov Test')\n",
    "print('---')\n",
    "print('Knowledge: ', KS(data['Knowledge'], 'norm'))\n",
    "print('Practice: ', KS(data['Practice'], 'norm'))"
   ]
  },
  {
   "cell_type": "markdown",
   "metadata": {},
   "source": [
    "Its safe to conclude that Knowledge and Practice Scores deviate from the normal"
   ]
  },
  {
   "cell_type": "markdown",
   "metadata": {},
   "source": [
    "---"
   ]
  },
  {
   "cell_type": "markdown",
   "metadata": {},
   "source": [
    "# Knowledge"
   ]
  },
  {
   "cell_type": "code",
   "execution_count": 22,
   "metadata": {},
   "outputs": [
    {
     "data": {
      "text/plain": [
       "count    101.000000\n",
       "mean       2.396040\n",
       "std        1.959996\n",
       "min        0.000000\n",
       "25%        1.000000\n",
       "50%        2.000000\n",
       "75%        4.000000\n",
       "max        8.000000\n",
       "Name: Knowledge, dtype: float64"
      ]
     },
     "execution_count": 22,
     "metadata": {},
     "output_type": "execute_result"
    }
   ],
   "source": [
    "data['Knowledge'].describe()"
   ]
  },
  {
   "cell_type": "markdown",
   "metadata": {},
   "source": [
    "### Do people who have seen the symptoms in their farms before know more than others?"
   ]
  },
  {
   "cell_type": "code",
   "execution_count": 23,
   "metadata": {},
   "outputs": [
    {
     "name": "stdout",
     "output_type": "stream",
     "text": [
      "         mean  median  min  max\n",
      "V8                             \n",
      "No   1.423077       1    0    5\n",
      "Yes  2.770270       3    0    8\n",
      "         mean  median  min  max\n",
      "V10                            \n",
      "No   1.793103       1    0    7\n",
      "Yes  2.703125       3    0    8\n"
     ]
    }
   ],
   "source": [
    "print(data[['V8', 'Knowledge']].groupby('V8')['Knowledge'].agg(['mean','median','min','max']))\n",
    "print(data[['V10', 'Knowledge']].groupby('V10')['Knowledge'].agg(['mean','median','min','max']))"
   ]
  },
  {
   "cell_type": "code",
   "execution_count": 24,
   "metadata": {},
   "outputs": [
    {
     "data": {
      "image/png": "[encoded data removed]",
      "text/plain": [
       "<Figure size 720x432 with 2 Axes>"
      ]
     },
     "metadata": {
      "needs_background": "light"
     },
     "output_type": "display_data"
    }
   ],
   "source": [
    "plt.figure(figsize=(10,6))\n",
    "plt.subplot(1,2,1)\n",
    "sns.boxplot(data=data, x= data['Knowledge'], y=data['V8'])\n",
    "plt.title('Have you seen Image 1 on your farm?')\n",
    "\n",
    "plt.subplot(1,2,2)\n",
    "sns.boxplot(data=data, x= data['Knowledge'], y=data['V10'])\n",
    "plt.title('Have you seen Image 2 on your farm?')\n",
    "\n",
    "plt.tight_layout()"
   ]
  },
  {
   "cell_type": "code",
   "execution_count": 25,
   "metadata": {},
   "outputs": [],
   "source": [
    "#Create dummy varaibles from variables measuring if farmer has seen symptom\n",
    "data['V8_dummy'] = data['V8'].apply(lambda x: 1 if x == 'Yes' else 0)\n",
    "data['V10_dummy'] = data['V10'].apply(lambda x: 1 if x == 'Yes' else 0)\n",
    "\n",
    "#add both columns together to determine how many of the symptoms the farmer has seen\n",
    "data['Symptom'] = data['V8_dummy'] + data['V10_dummy']"
   ]
  },
  {
   "cell_type": "code",
   "execution_count": 26,
   "metadata": {},
   "outputs": [
    {
     "data": {
      "text/plain": [
       "Text(0.5, 1.0, 'Number of symptoms seen')"
      ]
     },
     "execution_count": 26,
     "metadata": {},
     "output_type": "execute_result"
    },
    {
     "data": {
      "image/png": "[encoded data removed]",
      "text/plain": [
       "<Figure size 432x288 with 1 Axes>"
      ]
     },
     "metadata": {
      "needs_background": "light"
     },
     "output_type": "display_data"
    }
   ],
   "source": [
    "sns.boxplot(data=data, x= data['Knowledge'], y=data['Symptom'].astype('category'))\n",
    "plt.title('Number of symptoms seen')"
   ]
  },
  {
   "cell_type": "code",
   "execution_count": 27,
   "metadata": {},
   "outputs": [
    {
     "data": {
      "text/html": [
       "<div>\n",
       "<style scoped>\n",
       "    .dataframe tbody tr th:only-of-type {\n",
       "        vertical-align: middle;\n",
       "    }\n",
       "\n",
       "    .dataframe tbody tr th {\n",
       "        vertical-align: top;\n",
       "    }\n",
       "\n",
       "    .dataframe thead th {\n",
       "        text-align: right;\n",
       "    }\n",
       "</style>\n",
       "<table border=\"1\" class=\"dataframe\">\n",
       "  <thead>\n",
       "    <tr style=\"text-align: right;\">\n",
       "      <th></th>\n",
       "      <th>count</th>\n",
       "      <th>mean</th>\n",
       "      <th>median</th>\n",
       "      <th>min</th>\n",
       "      <th>max</th>\n",
       "    </tr>\n",
       "    <tr>\n",
       "      <th>Symptom</th>\n",
       "      <th></th>\n",
       "      <th></th>\n",
       "      <th></th>\n",
       "      <th></th>\n",
       "      <th></th>\n",
       "    </tr>\n",
       "  </thead>\n",
       "  <tbody>\n",
       "    <tr>\n",
       "      <th>0</th>\n",
       "      <td>21</td>\n",
       "      <td>1.047619</td>\n",
       "      <td>0.0</td>\n",
       "      <td>0</td>\n",
       "      <td>5</td>\n",
       "    </tr>\n",
       "    <tr>\n",
       "      <th>1</th>\n",
       "      <td>22</td>\n",
       "      <td>2.818182</td>\n",
       "      <td>2.5</td>\n",
       "      <td>0</td>\n",
       "      <td>7</td>\n",
       "    </tr>\n",
       "    <tr>\n",
       "      <th>2</th>\n",
       "      <td>58</td>\n",
       "      <td>2.724138</td>\n",
       "      <td>3.0</td>\n",
       "      <td>0</td>\n",
       "      <td>8</td>\n",
       "    </tr>\n",
       "  </tbody>\n",
       "</table>\n",
       "</div>"
      ],
      "text/plain": [
       "         count      mean  median  min  max\n",
       "Symptom                                   \n",
       "0           21  1.047619     0.0    0    5\n",
       "1           22  2.818182     2.5    0    7\n",
       "2           58  2.724138     3.0    0    8"
      ]
     },
     "execution_count": 27,
     "metadata": {},
     "output_type": "execute_result"
    }
   ],
   "source": [
    "# descriptives for number of symptoms seen\n",
    "data[['Knowledge', 'Symptom']].groupby('Symptom')['Knowledge'].agg(['count','mean','median','min','max'])"
   ]
  },
  {
   "cell_type": "code",
   "execution_count": 28,
   "metadata": {},
   "outputs": [
    {
     "data": {
      "text/plain": [
       "2    0.574257\n",
       "1    0.217822\n",
       "0    0.207921\n",
       "Name: Symptom, dtype: float64"
      ]
     },
     "execution_count": 28,
     "metadata": {},
     "output_type": "execute_result"
    }
   ],
   "source": [
    "# percentage of persons in relation to how many symptoms they have seen\n",
    "data['Symptom'].value_counts(normalize=True)"
   ]
  },
  {
   "cell_type": "code",
   "execution_count": 29,
   "metadata": {},
   "outputs": [
    {
     "name": "stdout",
     "output_type": "stream",
     "text": [
      "Statistics=622.500 \n",
      " p=0.4349\n"
     ]
    }
   ],
   "source": [
    "# Does Knowledge score differ between persons who have see 1 vs 2 symptoms\n",
    "stat, p = mannwhitneyu(data.loc[data['Symptom'] == 1, 'Knowledge'], \n",
    "                       data.loc[data['Symptom'] == 2, 'Knowledge']\n",
    "                      )\n",
    "\n",
    "print('Statistics=%.3f \\n p=%.4f' % (stat, p))"
   ]
  },
  {
   "cell_type": "markdown",
   "metadata": {},
   "source": [
    "#### it would seem that having seen the symptoms on one's farm is predictive of knowledge"
   ]
  },
  {
   "cell_type": "code",
   "execution_count": 30,
   "metadata": {},
   "outputs": [
    {
     "data": {
      "text/plain": [
       "Text(0.5, 1.0, 'Seen no Symptom')"
      ]
     },
     "execution_count": 30,
     "metadata": {},
     "output_type": "execute_result"
    },
    {
     "data": {
      "image/png": "[encoded data removed]",
      "text/plain": [
       "<Figure size 1080x576 with 3 Axes>"
      ]
     },
     "metadata": {
      "needs_background": "light"
     },
     "output_type": "display_data"
    }
   ],
   "source": [
    "plt.figure(figsize=(15,8))\n",
    "\n",
    "plt.subplot(1,3,1)\n",
    "sns.distplot(data.loc[data['Symptom'] == 2, 'Knowledge'])\n",
    "plt.title('Seen both Symptoms')\n",
    "\n",
    "plt.subplot(1,3,2)\n",
    "sns.distplot(data.loc[data['Symptom'] == 1, 'Knowledge'])\n",
    "plt.title('Seen one Symptom')\n",
    "\n",
    "plt.subplot(1,3,3)\n",
    "sns.distplot(data.loc[data['Symptom'] == 0, 'Knowledge'])\n",
    "plt.title('Seen no Symptom')"
   ]
  },
  {
   "cell_type": "code",
   "execution_count": 31,
   "metadata": {},
   "outputs": [],
   "source": [
    "#Create column to check if participant has seen at least one symptom\n",
    "data['Seen_One'] = data['Symptom'].apply(lambda x: 'Yes' if x >= 1 else 'No')"
   ]
  },
  {
   "cell_type": "code",
   "execution_count": 32,
   "metadata": {},
   "outputs": [
    {
     "data": {
      "text/html": [
       "<div>\n",
       "<style scoped>\n",
       "    .dataframe tbody tr th:only-of-type {\n",
       "        vertical-align: middle;\n",
       "    }\n",
       "\n",
       "    .dataframe tbody tr th {\n",
       "        vertical-align: top;\n",
       "    }\n",
       "\n",
       "    .dataframe thead th {\n",
       "        text-align: right;\n",
       "    }\n",
       "</style>\n",
       "<table border=\"1\" class=\"dataframe\">\n",
       "  <thead>\n",
       "    <tr style=\"text-align: right;\">\n",
       "      <th></th>\n",
       "      <th>count</th>\n",
       "      <th>mean</th>\n",
       "      <th>std</th>\n",
       "      <th>median</th>\n",
       "      <th>min</th>\n",
       "      <th>max</th>\n",
       "    </tr>\n",
       "    <tr>\n",
       "      <th>Seen_One</th>\n",
       "      <th></th>\n",
       "      <th></th>\n",
       "      <th></th>\n",
       "      <th></th>\n",
       "      <th></th>\n",
       "      <th></th>\n",
       "    </tr>\n",
       "  </thead>\n",
       "  <tbody>\n",
       "    <tr>\n",
       "      <th>No</th>\n",
       "      <td>21</td>\n",
       "      <td>1.047619</td>\n",
       "      <td>1.564487</td>\n",
       "      <td>0</td>\n",
       "      <td>0</td>\n",
       "      <td>5</td>\n",
       "    </tr>\n",
       "    <tr>\n",
       "      <th>Yes</th>\n",
       "      <td>80</td>\n",
       "      <td>2.750000</td>\n",
       "      <td>1.906020</td>\n",
       "      <td>3</td>\n",
       "      <td>0</td>\n",
       "      <td>8</td>\n",
       "    </tr>\n",
       "  </tbody>\n",
       "</table>\n",
       "</div>"
      ],
      "text/plain": [
       "          count      mean       std  median  min  max\n",
       "Seen_One                                             \n",
       "No           21  1.047619  1.564487       0    0    5\n",
       "Yes          80  2.750000  1.906020       3    0    8"
      ]
     },
     "execution_count": 32,
     "metadata": {},
     "output_type": "execute_result"
    }
   ],
   "source": [
    "data[['Seen_One', 'Knowledge']].groupby('Seen_One')['Knowledge'].agg(['count', 'mean','std','median','min','max'])"
   ]
  },
  {
   "cell_type": "code",
   "execution_count": 33,
   "metadata": {},
   "outputs": [
    {
     "data": {
      "text/plain": [
       "Yes    79.207921\n",
       "No     20.792079\n",
       "Name: Seen_One, dtype: float64"
      ]
     },
     "execution_count": 33,
     "metadata": {},
     "output_type": "execute_result"
    }
   ],
   "source": [
    "#Percentage of those who have seen at least one of the symptoms\n",
    "data['Seen_One'].value_counts(normalize=True)*100"
   ]
  },
  {
   "cell_type": "code",
   "execution_count": 34,
   "metadata": {},
   "outputs": [
    {
     "data": {
      "text/plain": [
       "<matplotlib.axes._subplots.AxesSubplot at 0x22c62ce3400>"
      ]
     },
     "execution_count": 34,
     "metadata": {},
     "output_type": "execute_result"
    },
    {
     "data": {
      "image/png": "[encoded data removed]",
      "text/plain": [
       "<Figure size 432x288 with 1 Axes>"
      ]
     },
     "metadata": {
      "needs_background": "light"
     },
     "output_type": "display_data"
    }
   ],
   "source": [
    "sns.boxplot(data=data, x='Seen_One', y= 'Knowledge')"
   ]
  },
  {
   "cell_type": "code",
   "execution_count": 35,
   "metadata": {},
   "outputs": [
    {
     "name": "stdout",
     "output_type": "stream",
     "text": [
      "Statistics=1282.500 \n",
      " p=0.0002\n"
     ]
    }
   ],
   "source": [
    "# Are farmers who have seen at least one symptom in their farm more likely to know more\n",
    "stat, p = mannwhitneyu(data.loc[data['Seen_One'] == 'Yes', 'Knowledge'], \n",
    "                       data.loc[data['Seen_One'] == 'No', 'Knowledge'], \n",
    "                       alternative='two-sided')\n",
    "\n",
    "print('Statistics=%.3f \\n p=%.4f' % (stat, p))"
   ]
  },
  {
   "cell_type": "code",
   "execution_count": 36,
   "metadata": {},
   "outputs": [
    {
     "name": "stdout",
     "output_type": "stream",
     "text": [
      "Statistics=14.159 \n",
      " p=0.0008\n"
     ]
    }
   ],
   "source": [
    "# Is there a significant difference in the knowledge scores based on how many symptoms have been seen\n",
    "stat, p = kruskal(data.loc[data['Symptom'] == 0, 'Knowledge'], \n",
    "                  data.loc[data['Symptom'] == 1, 'Knowledge'], \n",
    "                  data.loc[data['Symptom'] == 2, 'Knowledge']\n",
    "                  )\n",
    "\n",
    "print('Statistics=%.3f \\n p=%.4f' % (stat, p))"
   ]
  },
  {
   "cell_type": "code",
   "execution_count": 37,
   "metadata": {},
   "outputs": [],
   "source": [
    "x= [data.loc[data['Symptom'] == 0, 'Knowledge'], \n",
    "    data.loc[data['Symptom'] == 1, 'Knowledge'], \n",
    "    data.loc[data['Symptom'] == 2, 'Knowledge']]"
   ]
  },
  {
   "cell_type": "code",
   "execution_count": 38,
   "metadata": {},
   "outputs": [
    {
     "data": {
      "text/plain": [
       "(<matplotlib.axes._subplots.AxesSubplot at 0x22c62f5deb8>,\n",
       " <matplotlib.colorbar.ColorbarBase at 0x22c62fd9160>)"
      ]
     },
     "execution_count": 38,
     "metadata": {},
     "output_type": "execute_result"
    },
    {
     "data": {
      "image/png": "[encoded data removed]",
      "text/plain": [
       "<Figure size 432x288 with 2 Axes>"
      ]
     },
     "metadata": {
      "needs_background": "light"
     },
     "output_type": "display_data"
    }
   ],
   "source": [
    "#post hoc with Conover test\n",
    "pc = sp.posthoc_conover(x)\n",
    "heatmap_args = {'linewidths': 0.25, 'linecolor': '0.5', 'clip_on': False, 'square': True, 'cbar_ax_bbox': [0.80, 0.35, 0.04, 0.3]}\n",
    "sp.sign_plot(pc, **heatmap_args)"
   ]
  },
  {
   "cell_type": "code",
   "execution_count": 39,
   "metadata": {},
   "outputs": [
    {
     "data": {
      "text/plain": [
       "(<matplotlib.axes._subplots.AxesSubplot at 0x22c62fe0c18>,\n",
       " <matplotlib.colorbar.ColorbarBase at 0x22c630594e0>)"
      ]
     },
     "execution_count": 39,
     "metadata": {},
     "output_type": "execute_result"
    },
    {
     "data": {
      "image/png": "[encoded data removed]",
      "text/plain": [
       "<Figure size 432x288 with 2 Axes>"
      ]
     },
     "metadata": {
      "needs_background": "light"
     },
     "output_type": "display_data"
    }
   ],
   "source": [
    "# Post hoc with mann whitney\n",
    "pc2 = sp.posthoc_mannwhitney(x)\n",
    "heatmap_args = {'linewidths': 0.25, 'linecolor': '0.5', 'clip_on': False, 'square': True, 'cbar_ax_bbox': [0.80, 0.35, 0.04, 0.3]}\n",
    "sp.sign_plot(pc2, **heatmap_args)"
   ]
  },
  {
   "cell_type": "code",
   "execution_count": 40,
   "metadata": {},
   "outputs": [],
   "source": [
    "# Create knowledge bins\n",
    "bins= [0,3,6,8]\n",
    "labels= ['Low', 'Mid', 'High']\n",
    "data['Knowledge_bin'] = pd.cut(data['Knowledge'], bins=bins, labels= labels )"
   ]
  },
  {
   "cell_type": "code",
   "execution_count": 41,
   "metadata": {},
   "outputs": [
    {
     "name": "stdout",
     "output_type": "stream",
     "text": [
      "Low     48\n",
      "Mid     27\n",
      "High     2\n",
      "Name: Knowledge_bin, dtype: int64\n",
      "Low     62.337662\n",
      "Mid     35.064935\n",
      "High     2.597403\n",
      "Name: Knowledge_bin, dtype: float64\n"
     ]
    }
   ],
   "source": [
    "print(data['Knowledge_bin'].value_counts())\n",
    "print(data['Knowledge_bin'].value_counts(normalize=True)*100)"
   ]
  },
  {
   "cell_type": "code",
   "execution_count": 42,
   "metadata": {},
   "outputs": [
    {
     "name": "stdout",
     "output_type": "stream",
     "text": [
      "Rain\n",
      "No     80\n",
      "Yes    14\n",
      "Name: V9_1, dtype: int64\n",
      "No     0.851064\n",
      "Yes    0.148936\n",
      "Name: V9_1, dtype: float64\n",
      "\n",
      "Variety\n",
      "No     87\n",
      "Yes     7\n",
      "Name: V9_2, dtype: int64\n",
      "No     0.925532\n",
      "Yes    0.074468\n",
      "Name: V9_2, dtype: float64\n",
      "\n",
      "Age\n",
      "No     79\n",
      "Yes    15\n",
      "Name: V9_3, dtype: int64\n",
      "No     0.840426\n",
      "Yes    0.159574\n",
      "Name: V9_3, dtype: float64\n",
      "\n",
      "Virus\n",
      "No     63\n",
      "Yes    31\n",
      "Name: V9_4, dtype: int64\n",
      "No     0.670213\n",
      "Yes    0.329787\n",
      "Name: V9_4, dtype: float64\n",
      "\n",
      "No Idea\n",
      "No     48\n",
      "Yes    46\n",
      "Name: V9_5, dtype: int64\n",
      "No     0.510638\n",
      "Yes    0.489362\n",
      "Name: V9_5, dtype: float64\n",
      "\n"
     ]
    }
   ],
   "source": [
    "# What is the common perception about what causes mosaic and leaf distortion\n",
    "cols = ['V9_1', 'V9_2', 'V9_3','V9_4','V9_5']\n",
    "labels= ['Rain', 'Variety', 'Age', 'Virus', 'No Idea']\n",
    "c=0\n",
    "for i in cols:\n",
    "    a= data[i].value_counts()\n",
    "    b= data[i].value_counts(normalize=True)\n",
    "    print(labels[c])\n",
    "    print(a)\n",
    "    print(b)\n",
    "    print('')\n",
    "    c=c+1"
   ]
  },
  {
   "cell_type": "code",
   "execution_count": 43,
   "metadata": {},
   "outputs": [
    {
     "name": "stdout",
     "output_type": "stream",
     "text": [
      "Rain\n",
      "No     72\n",
      "Yes    18\n",
      "Name: V11_1, dtype: int64\n",
      "No     0.8\n",
      "Yes    0.2\n",
      "Name: V11_1, dtype: float64\n",
      "\n",
      "Variety\n",
      "No     88\n",
      "Yes     1\n",
      "Name: V11_2, dtype: int64\n",
      "No     0.988764\n",
      "Yes    0.011236\n",
      "Name: V11_2, dtype: float64\n",
      "\n",
      "Age\n",
      "No     82\n",
      "Yes     7\n",
      "Name: V11_3, dtype: int64\n",
      "No     0.921348\n",
      "Yes    0.078652\n",
      "Name: V11_3, dtype: float64\n",
      "\n",
      "Virus\n",
      "No     57\n",
      "Yes    32\n",
      "Name: V11_4, dtype: int64\n",
      "No     0.640449\n",
      "Yes    0.359551\n",
      "Name: V11_4, dtype: float64\n",
      "\n",
      "No Idea\n",
      "Yes    46\n",
      "No     43\n",
      "Name: V11_5, dtype: int64\n",
      "Yes    0.516854\n",
      "No     0.483146\n",
      "Name: V11_5, dtype: float64\n",
      "\n"
     ]
    }
   ],
   "source": [
    "# What is the common perception about what causes rottening of the tubers\n",
    "cols = ['V11_1', 'V11_2', 'V11_3','V11_4','V11_5']\n",
    "labels= ['Rain', 'Variety', 'Age', 'Virus', 'No Idea']\n",
    "c=0\n",
    "for i in cols:\n",
    "    a= data[i].value_counts()\n",
    "    b= data[i].value_counts(normalize=True)\n",
    "    print(labels[c])\n",
    "    print(a)\n",
    "    print(b)\n",
    "    print('')\n",
    "    c=c+1"
   ]
  },
  {
   "cell_type": "code",
   "execution_count": 44,
   "metadata": {},
   "outputs": [
    {
     "name": "stdout",
     "output_type": "stream",
     "text": [
      "Whitefly\n",
      "I dont know    38\n",
      "Yes            29\n",
      "No             18\n",
      "Name: V15, dtype: int64\n",
      "I dont know    0.447059\n",
      "Yes            0.341176\n",
      "No             0.211765\n",
      "Name: V15, dtype: float64\n",
      "\n",
      "Chemical Prevention\n",
      "Yes            55\n",
      "I dont know    25\n",
      "No             13\n",
      "Name: V16, dtype: int64\n",
      "Yes            0.591398\n",
      "I dont know    0.268817\n",
      "No             0.139785\n",
      "Name: V16, dtype: float64\n",
      "\n",
      "Burning\n",
      "I dont know    33\n",
      "Yes            30\n",
      "No             24\n",
      "Name: V17, dtype: int64\n",
      "I dont know    0.379310\n",
      "Yes            0.344828\n",
      "No             0.275862\n",
      "Name: V17, dtype: float64\n",
      "\n",
      "Rain\n",
      "I dont know    44\n",
      "No             29\n",
      "Yes            16\n",
      "2               1\n",
      "Name: V18, dtype: int64\n",
      "I dont know    0.488889\n",
      "No             0.322222\n",
      "Yes            0.177778\n",
      "2              0.011111\n",
      "Name: V18, dtype: float64\n",
      "\n"
     ]
    }
   ],
   "source": [
    "# Descriptives for some other knowledge questions\n",
    "cols = ['V15', 'V16', 'V17','V18']\n",
    "labels= ['Whitefly', 'Chemical Prevention', 'Burning', 'Rain']\n",
    "c=0\n",
    "for i in cols:\n",
    "    a= data[i].value_counts()\n",
    "    b= data[i].value_counts(normalize=True)\n",
    "    print(labels[c])\n",
    "    print(a)\n",
    "    print(b)\n",
    "    print('')\n",
    "    c=c+1"
   ]
  },
  {
   "cell_type": "code",
   "execution_count": 45,
   "metadata": {},
   "outputs": [
    {
     "data": {
      "text/html": [
       "<div>\n",
       "<style scoped>\n",
       "    .dataframe tbody tr th:only-of-type {\n",
       "        vertical-align: middle;\n",
       "    }\n",
       "\n",
       "    .dataframe tbody tr th {\n",
       "        vertical-align: top;\n",
       "    }\n",
       "\n",
       "    .dataframe thead th {\n",
       "        text-align: right;\n",
       "    }\n",
       "</style>\n",
       "<table border=\"1\" class=\"dataframe\">\n",
       "  <thead>\n",
       "    <tr style=\"text-align: right;\">\n",
       "      <th></th>\n",
       "      <th>Knowledge</th>\n",
       "      <th>V30</th>\n",
       "    </tr>\n",
       "  </thead>\n",
       "  <tbody>\n",
       "    <tr>\n",
       "      <th>Knowledge</th>\n",
       "      <td>1.000000</td>\n",
       "      <td>0.293043</td>\n",
       "    </tr>\n",
       "    <tr>\n",
       "      <th>V30</th>\n",
       "      <td>0.293043</td>\n",
       "      <td>1.000000</td>\n",
       "    </tr>\n",
       "  </tbody>\n",
       "</table>\n",
       "</div>"
      ],
      "text/plain": [
       "           Knowledge       V30\n",
       "Knowledge   1.000000  0.293043\n",
       "V30         0.293043  1.000000"
      ]
     },
     "execution_count": 45,
     "metadata": {},
     "output_type": "execute_result"
    }
   ],
   "source": [
    "data[['Knowledge','V30']].corr(method='spearman')"
   ]
  },
  {
   "cell_type": "markdown",
   "metadata": {},
   "source": [
    "---"
   ]
  },
  {
   "cell_type": "markdown",
   "metadata": {},
   "source": [
    "# Practice"
   ]
  },
  {
   "cell_type": "code",
   "execution_count": 46,
   "metadata": {},
   "outputs": [
    {
     "data": {
      "text/plain": [
       "count    101.000000\n",
       "mean       4.277228\n",
       "std        1.304751\n",
       "min        0.000000\n",
       "25%        4.000000\n",
       "50%        4.000000\n",
       "75%        5.000000\n",
       "max        7.000000\n",
       "Name: Practice, dtype: float64"
      ]
     },
     "execution_count": 46,
     "metadata": {},
     "output_type": "execute_result"
    }
   ],
   "source": [
    "#Descriptive Stats for practice scores\n",
    "data['Practice'].describe()"
   ]
  },
  {
   "cell_type": "code",
   "execution_count": 47,
   "metadata": {},
   "outputs": [
    {
     "data": {
      "text/plain": [
       "<matplotlib.axes._subplots.AxesSubplot at 0x22c63085ba8>"
      ]
     },
     "execution_count": 47,
     "metadata": {},
     "output_type": "execute_result"
    },
    {
     "data": {
      "image/png": "[encoded data removed]",
      "text/plain": [
       "<Figure size 432x288 with 1 Axes>"
      ]
     },
     "metadata": {
      "needs_background": "light"
     },
     "output_type": "display_data"
    }
   ],
   "source": [
    "#Distribution of practice scores\n",
    "sns.kdeplot(data['Practice'])"
   ]
  },
  {
   "cell_type": "code",
   "execution_count": 48,
   "metadata": {},
   "outputs": [
    {
     "name": "stdout",
     "output_type": "stream",
     "text": [
      "No     68\n",
      "Yes    27\n",
      "9       1\n",
      "Name: V31, dtype: int64\n",
      "No     70.833333\n",
      "Yes    28.125000\n",
      "9       1.041667\n",
      "Name: V31, dtype: float64\n"
     ]
    }
   ],
   "source": [
    "#How many farmers use chemical to prevent CMD\n",
    "print(data['V31'].value_counts())\n",
    "print(data['V31'].value_counts(normalize=True) *100)"
   ]
  },
  {
   "cell_type": "code",
   "execution_count": 49,
   "metadata": {},
   "outputs": [],
   "source": [
    "#Clean up the wrongly coded value\n",
    "data['V31'].replace(9, np.nan, inplace=True)"
   ]
  },
  {
   "cell_type": "code",
   "execution_count": 50,
   "metadata": {},
   "outputs": [
    {
     "name": "stdout",
     "output_type": "stream",
     "text": [
      "No     68\n",
      "Yes    27\n",
      "Name: V31, dtype: int64\n",
      "No     71.578947\n",
      "Yes    28.421053\n",
      "Name: V31, dtype: float64\n"
     ]
    }
   ],
   "source": [
    "#How many farmers use chemical to prevent CMD\n",
    "print(data['V31'].value_counts())\n",
    "print(data['V31'].value_counts(normalize=True) *100)"
   ]
  },
  {
   "cell_type": "code",
   "execution_count": 51,
   "metadata": {},
   "outputs": [
    {
     "data": {
      "text/plain": [
       "No     49\n",
       "Yes    42\n",
       "9       3\n",
       "Name: V32, dtype: int64"
      ]
     },
     "execution_count": 51,
     "metadata": {},
     "output_type": "execute_result"
    }
   ],
   "source": [
    "#How many remove plants showing symptoms\n",
    "data['V32'].value_counts()"
   ]
  },
  {
   "cell_type": "code",
   "execution_count": 52,
   "metadata": {},
   "outputs": [],
   "source": [
    "#Clean up the wrongly coded value\n",
    "data['V32'].replace(9, np.nan, inplace=True)"
   ]
  },
  {
   "cell_type": "code",
   "execution_count": 53,
   "metadata": {},
   "outputs": [
    {
     "name": "stdout",
     "output_type": "stream",
     "text": [
      "No     49\n",
      "Yes    42\n",
      "Name: V32, dtype: int64\n",
      "No     53.846154\n",
      "Yes    46.153846\n",
      "Name: V32, dtype: float64\n"
     ]
    }
   ],
   "source": [
    "#How many remove plants showing symptoms\n",
    "print(data['V32'].value_counts())\n",
    "print(data['V32'].value_counts(normalize=True) *100)"
   ]
  },
  {
   "cell_type": "code",
   "execution_count": 54,
   "metadata": {},
   "outputs": [
    {
     "name": "stdout",
     "output_type": "stream",
     "text": [
      "No     21\n",
      "Yes    21\n",
      "Name: V33, dtype: int64\n",
      "No     50.0\n",
      "Yes    50.0\n",
      "Name: V33, dtype: float64\n"
     ]
    }
   ],
   "source": [
    "#of those who remove them, are they burnt\n",
    "print(data['V33'][data['V32']=='Yes'].value_counts())\n",
    "print(data['V33'][data['V32']=='Yes'].value_counts(normalize=True)*100)"
   ]
  },
  {
   "cell_type": "code",
   "execution_count": 55,
   "metadata": {},
   "outputs": [
    {
     "data": {
      "text/html": [
       "<div>\n",
       "<style scoped>\n",
       "    .dataframe tbody tr th:only-of-type {\n",
       "        vertical-align: middle;\n",
       "    }\n",
       "\n",
       "    .dataframe tbody tr th {\n",
       "        vertical-align: top;\n",
       "    }\n",
       "\n",
       "    .dataframe thead th {\n",
       "        text-align: right;\n",
       "    }\n",
       "</style>\n",
       "<table border=\"1\" class=\"dataframe\">\n",
       "  <thead>\n",
       "    <tr style=\"text-align: right;\">\n",
       "      <th></th>\n",
       "      <th>count</th>\n",
       "      <th>mean</th>\n",
       "      <th>std</th>\n",
       "      <th>median</th>\n",
       "      <th>min</th>\n",
       "      <th>max</th>\n",
       "    </tr>\n",
       "    <tr>\n",
       "      <th>V32</th>\n",
       "      <th></th>\n",
       "      <th></th>\n",
       "      <th></th>\n",
       "      <th></th>\n",
       "      <th></th>\n",
       "      <th></th>\n",
       "    </tr>\n",
       "  </thead>\n",
       "  <tbody>\n",
       "    <tr>\n",
       "      <th>No</th>\n",
       "      <td>49</td>\n",
       "      <td>2.061224</td>\n",
       "      <td>1.663432</td>\n",
       "      <td>2</td>\n",
       "      <td>0</td>\n",
       "      <td>6</td>\n",
       "    </tr>\n",
       "    <tr>\n",
       "      <th>Yes</th>\n",
       "      <td>42</td>\n",
       "      <td>3.309524</td>\n",
       "      <td>1.981476</td>\n",
       "      <td>3</td>\n",
       "      <td>0</td>\n",
       "      <td>8</td>\n",
       "    </tr>\n",
       "  </tbody>\n",
       "</table>\n",
       "</div>"
      ],
      "text/plain": [
       "     count      mean       std  median  min  max\n",
       "V32                                             \n",
       "No      49  2.061224  1.663432       2    0    6\n",
       "Yes     42  3.309524  1.981476       3    0    8"
      ]
     },
     "execution_count": 55,
     "metadata": {},
     "output_type": "execute_result"
    }
   ],
   "source": [
    "#Do persons who remove infected plants have better knowledge\n",
    "data[['V32','Knowledge']].groupby('V32')['Knowledge'].agg(['count','mean','std','median','min','max'])"
   ]
  },
  {
   "cell_type": "code",
   "execution_count": 56,
   "metadata": {},
   "outputs": [
    {
     "data": {
      "text/plain": [
       "MannwhitneyuResult(statistic=882.0, pvalue=0.4981873937221385)"
      ]
     },
     "execution_count": 56,
     "metadata": {},
     "output_type": "execute_result"
    }
   ],
   "source": [
    "#Does knowledge differ based on whether or not a person removes infected plant\n",
    "mannwhitneyu(data.loc[data['V32'] == 'Yes', 'Knowledge'],\n",
    "             data.loc[data['V32'] == 'Yes', 'Knowledge'])"
   ]
  },
  {
   "cell_type": "code",
   "execution_count": 57,
   "metadata": {},
   "outputs": [
    {
     "name": "stdout",
     "output_type": "stream",
     "text": [
      "Reputable Source\n",
      "No     59\n",
      "Yes    37\n",
      "Name: V34_1, dtype: int64\n",
      "No     61.458333\n",
      "Yes    38.541667\n",
      "Name: V34_1, dtype: float64\n",
      " \n",
      "Previous Planting Season\n",
      "No     56\n",
      "Yes    40\n",
      "Name: V34_2, dtype: int64\n",
      "No     58.333333\n",
      "Yes    41.666667\n",
      "Name: V34_2, dtype: float64\n",
      " \n",
      "From Neighbouring farms\n",
      "No     55\n",
      "Yes    41\n",
      "Name: V34_3, dtype: int64\n",
      "No     57.291667\n",
      "Yes    42.708333\n",
      "Name: V34_3, dtype: float64\n",
      " \n"
     ]
    }
   ],
   "source": [
    "cols=['V34_1','V34_2','V34_3']\n",
    "headers=['Reputable Source', 'Previous Planting Season', 'From Neighbouring farms']\n",
    "j=0\n",
    "\n",
    "for i in cols:\n",
    "    print(headers[j])\n",
    "    print(data[i].value_counts())\n",
    "    print(data[i].value_counts(normalize=True)*100)\n",
    "    print(\" \")\n",
    "    j=j+1"
   ]
  },
  {
   "cell_type": "code",
   "execution_count": 58,
   "metadata": {},
   "outputs": [
    {
     "name": "stdout",
     "output_type": "stream",
     "text": [
      "No     83\n",
      "Yes    15\n",
      "Name: V35, dtype: int64\n",
      "No     84.693878\n",
      "Yes    15.306122\n",
      "Name: V35, dtype: float64\n"
     ]
    }
   ],
   "source": [
    "#How many farmers had obtained cuttings from otuside their state\n",
    "print(data['V35'].value_counts())\n",
    "print(data['V35'].value_counts(normalize=True)*100)"
   ]
  },
  {
   "cell_type": "code",
   "execution_count": 59,
   "metadata": {},
   "outputs": [
    {
     "data": {
      "text/plain": [
       "0             3\n",
       "oyo state     2\n",
       "2             2\n",
       "Oyo state     1\n",
       "ogun          1\n",
       "3             1\n",
       "osun state    1\n",
       "1             1\n",
       "IITA          1\n",
       "igbo-ora      1\n",
       "Name: V36, dtype: int64"
      ]
     },
     "execution_count": 59,
     "metadata": {},
     "output_type": "execute_result"
    }
   ],
   "source": [
    "data['V36'].value_counts()"
   ]
  },
  {
   "cell_type": "code",
   "execution_count": 60,
   "metadata": {},
   "outputs": [
    {
     "name": "stdout",
     "output_type": "stream",
     "text": [
      "No     95\n",
      "Yes     1\n",
      "Name: V37, dtype: int64\n",
      "No     98.958333\n",
      "Yes     1.041667\n",
      "Name: V37, dtype: float64\n"
     ]
    }
   ],
   "source": [
    "#How many farmers had obtained cuttings from otuside their country\n",
    "print(data['V37'].value_counts())\n",
    "print(data['V37'].value_counts(normalize=True)*100)"
   ]
  },
  {
   "cell_type": "code",
   "execution_count": 61,
   "metadata": {},
   "outputs": [
    {
     "data": {
      "text/plain": [
       "Series([], Name: V38, dtype: int64)"
      ]
     },
     "execution_count": 61,
     "metadata": {},
     "output_type": "execute_result"
    }
   ],
   "source": [
    "data['V38'].value_counts()"
   ]
  },
  {
   "cell_type": "markdown",
   "metadata": {},
   "source": [
    "#### Number of symptoms seen Vs Practice"
   ]
  },
  {
   "cell_type": "code",
   "execution_count": 62,
   "metadata": {},
   "outputs": [
    {
     "data": {
      "text/html": [
       "<div>\n",
       "<style scoped>\n",
       "    .dataframe tbody tr th:only-of-type {\n",
       "        vertical-align: middle;\n",
       "    }\n",
       "\n",
       "    .dataframe tbody tr th {\n",
       "        vertical-align: top;\n",
       "    }\n",
       "\n",
       "    .dataframe thead th {\n",
       "        text-align: right;\n",
       "    }\n",
       "</style>\n",
       "<table border=\"1\" class=\"dataframe\">\n",
       "  <thead>\n",
       "    <tr style=\"text-align: right;\">\n",
       "      <th></th>\n",
       "      <th>count</th>\n",
       "      <th>mean</th>\n",
       "      <th>std</th>\n",
       "      <th>median</th>\n",
       "      <th>min</th>\n",
       "      <th>max</th>\n",
       "    </tr>\n",
       "    <tr>\n",
       "      <th>Symptom</th>\n",
       "      <th></th>\n",
       "      <th></th>\n",
       "      <th></th>\n",
       "      <th></th>\n",
       "      <th></th>\n",
       "      <th></th>\n",
       "    </tr>\n",
       "  </thead>\n",
       "  <tbody>\n",
       "    <tr>\n",
       "      <th>0</th>\n",
       "      <td>21</td>\n",
       "      <td>4.142857</td>\n",
       "      <td>1.621287</td>\n",
       "      <td>4.0</td>\n",
       "      <td>0</td>\n",
       "      <td>6</td>\n",
       "    </tr>\n",
       "    <tr>\n",
       "      <th>1</th>\n",
       "      <td>22</td>\n",
       "      <td>4.500000</td>\n",
       "      <td>1.144344</td>\n",
       "      <td>4.5</td>\n",
       "      <td>2</td>\n",
       "      <td>6</td>\n",
       "    </tr>\n",
       "    <tr>\n",
       "      <th>2</th>\n",
       "      <td>58</td>\n",
       "      <td>4.241379</td>\n",
       "      <td>1.246896</td>\n",
       "      <td>4.0</td>\n",
       "      <td>0</td>\n",
       "      <td>7</td>\n",
       "    </tr>\n",
       "  </tbody>\n",
       "</table>\n",
       "</div>"
      ],
      "text/plain": [
       "         count      mean       std  median  min  max\n",
       "Symptom                                             \n",
       "0           21  4.142857  1.621287     4.0    0    6\n",
       "1           22  4.500000  1.144344     4.5    2    6\n",
       "2           58  4.241379  1.246896     4.0    0    7"
      ]
     },
     "execution_count": 62,
     "metadata": {},
     "output_type": "execute_result"
    }
   ],
   "source": [
    "data[['Symptom', 'Practice']].groupby('Symptom')['Practice'].agg(['count','mean','std','median','min','max'])"
   ]
  },
  {
   "cell_type": "code",
   "execution_count": 63,
   "metadata": {},
   "outputs": [
    {
     "data": {
      "text/html": [
       "<div>\n",
       "<style scoped>\n",
       "    .dataframe tbody tr th:only-of-type {\n",
       "        vertical-align: middle;\n",
       "    }\n",
       "\n",
       "    .dataframe tbody tr th {\n",
       "        vertical-align: top;\n",
       "    }\n",
       "\n",
       "    .dataframe thead th {\n",
       "        text-align: right;\n",
       "    }\n",
       "</style>\n",
       "<table border=\"1\" class=\"dataframe\">\n",
       "  <thead>\n",
       "    <tr style=\"text-align: right;\">\n",
       "      <th></th>\n",
       "      <th>count</th>\n",
       "      <th>mean</th>\n",
       "      <th>std</th>\n",
       "      <th>median</th>\n",
       "      <th>min</th>\n",
       "      <th>max</th>\n",
       "    </tr>\n",
       "    <tr>\n",
       "      <th>Seen_One</th>\n",
       "      <th></th>\n",
       "      <th></th>\n",
       "      <th></th>\n",
       "      <th></th>\n",
       "      <th></th>\n",
       "      <th></th>\n",
       "    </tr>\n",
       "  </thead>\n",
       "  <tbody>\n",
       "    <tr>\n",
       "      <th>No</th>\n",
       "      <td>21</td>\n",
       "      <td>4.142857</td>\n",
       "      <td>1.621287</td>\n",
       "      <td>4</td>\n",
       "      <td>0</td>\n",
       "      <td>6</td>\n",
       "    </tr>\n",
       "    <tr>\n",
       "      <th>Yes</th>\n",
       "      <td>80</td>\n",
       "      <td>4.312500</td>\n",
       "      <td>1.217943</td>\n",
       "      <td>4</td>\n",
       "      <td>0</td>\n",
       "      <td>7</td>\n",
       "    </tr>\n",
       "  </tbody>\n",
       "</table>\n",
       "</div>"
      ],
      "text/plain": [
       "          count      mean       std  median  min  max\n",
       "Seen_One                                             \n",
       "No           21  4.142857  1.621287       4    0    6\n",
       "Yes          80  4.312500  1.217943       4    0    7"
      ]
     },
     "execution_count": 63,
     "metadata": {},
     "output_type": "execute_result"
    }
   ],
   "source": [
    "data[['Seen_One', 'Practice']].groupby('Seen_One')['Practice'].agg(['count','mean','std','median','min','max'])"
   ]
  },
  {
   "cell_type": "code",
   "execution_count": 64,
   "metadata": {},
   "outputs": [
    {
     "data": {
      "text/plain": [
       "MannwhitneyuResult(statistic=837.0, pvalue=0.4913691469487441)"
      ]
     },
     "execution_count": 64,
     "metadata": {},
     "output_type": "execute_result"
    }
   ],
   "source": [
    "#does seeing a symptoms previously affect practice scores\n",
    "mannwhitneyu(data.loc[data['Seen_One']=='Yes', 'Practice'],\n",
    "            data.loc[data['Seen_One']=='No', 'Practice'])"
   ]
  },
  {
   "cell_type": "code",
   "execution_count": 65,
   "metadata": {},
   "outputs": [
    {
     "data": {
      "text/plain": [
       "KruskalResult(statistic=0.601092264776857, pvalue=0.7404137463157947)"
      ]
     },
     "execution_count": 65,
     "metadata": {},
     "output_type": "execute_result"
    }
   ],
   "source": [
    "kruskal(data.loc[data['Symptom']== 0, 'Practice'],\n",
    "       data.loc[data['Symptom']== 1, 'Practice'],\n",
    "       data.loc[data['Symptom']== 2, 'Practice'])"
   ]
  },
  {
   "cell_type": "markdown",
   "metadata": {},
   "source": [
    "---"
   ]
  },
  {
   "cell_type": "markdown",
   "metadata": {},
   "source": [
    "# Knowledge/Practice and its Covariates"
   ]
  },
  {
   "cell_type": "markdown",
   "metadata": {},
   "source": [
    "### Does belonging to a farmers association affect knowlege and practice?"
   ]
  },
  {
   "cell_type": "code",
   "execution_count": 66,
   "metadata": {},
   "outputs": [
    {
     "data": {
      "text/plain": [
       "Yes    77\n",
       "No     22\n",
       "Name: V1, dtype: int64"
      ]
     },
     "execution_count": 66,
     "metadata": {},
     "output_type": "execute_result"
    }
   ],
   "source": [
    "#How many in each category\n",
    "data['V1'].value_counts()"
   ]
  },
  {
   "cell_type": "code",
   "execution_count": 67,
   "metadata": {},
   "outputs": [
    {
     "data": {
      "text/html": [
       "<div>\n",
       "<style scoped>\n",
       "    .dataframe tbody tr th:only-of-type {\n",
       "        vertical-align: middle;\n",
       "    }\n",
       "\n",
       "    .dataframe tbody tr th {\n",
       "        vertical-align: top;\n",
       "    }\n",
       "\n",
       "    .dataframe thead tr th {\n",
       "        text-align: left;\n",
       "    }\n",
       "\n",
       "    .dataframe thead tr:last-of-type th {\n",
       "        text-align: right;\n",
       "    }\n",
       "</style>\n",
       "<table border=\"1\" class=\"dataframe\">\n",
       "  <thead>\n",
       "    <tr>\n",
       "      <th></th>\n",
       "      <th colspan=\"3\" halign=\"left\">Knowledge</th>\n",
       "      <th colspan=\"3\" halign=\"left\">Practice</th>\n",
       "    </tr>\n",
       "    <tr>\n",
       "      <th></th>\n",
       "      <th>count</th>\n",
       "      <th>mean</th>\n",
       "      <th>std</th>\n",
       "      <th>count</th>\n",
       "      <th>mean</th>\n",
       "      <th>std</th>\n",
       "    </tr>\n",
       "    <tr>\n",
       "      <th>V1</th>\n",
       "      <th></th>\n",
       "      <th></th>\n",
       "      <th></th>\n",
       "      <th></th>\n",
       "      <th></th>\n",
       "      <th></th>\n",
       "    </tr>\n",
       "  </thead>\n",
       "  <tbody>\n",
       "    <tr>\n",
       "      <th>No</th>\n",
       "      <td>22</td>\n",
       "      <td>2.090909</td>\n",
       "      <td>2.021529</td>\n",
       "      <td>22</td>\n",
       "      <td>4.000000</td>\n",
       "      <td>1.234427</td>\n",
       "    </tr>\n",
       "    <tr>\n",
       "      <th>Yes</th>\n",
       "      <td>77</td>\n",
       "      <td>2.532468</td>\n",
       "      <td>1.943846</td>\n",
       "      <td>77</td>\n",
       "      <td>4.363636</td>\n",
       "      <td>1.326938</td>\n",
       "    </tr>\n",
       "  </tbody>\n",
       "</table>\n",
       "</div>"
      ],
      "text/plain": [
       "    Knowledge                     Practice                    \n",
       "        count      mean       std    count      mean       std\n",
       "V1                                                            \n",
       "No         22  2.090909  2.021529       22  4.000000  1.234427\n",
       "Yes        77  2.532468  1.943846       77  4.363636  1.326938"
      ]
     },
     "execution_count": 67,
     "metadata": {},
     "output_type": "execute_result"
    }
   ],
   "source": [
    "data[['V1', 'Knowledge', 'Practice']].groupby('V1')['Knowledge','Practice'].agg(['count','mean','std'])"
   ]
  },
  {
   "cell_type": "code",
   "execution_count": 68,
   "metadata": {},
   "outputs": [
    {
     "data": {
      "image/png": "[encoded data removed]",
      "text/plain": [
       "<Figure size 1080x360 with 2 Axes>"
      ]
     },
     "metadata": {
      "needs_background": "light"
     },
     "output_type": "display_data"
    }
   ],
   "source": [
    "axis_font = {'fontname':'Arial', 'size':'15'}\n",
    "plt.subplots(1, 2, figsize=(15,5))\n",
    "\n",
    "plt.subplot(1,2,1)\n",
    "sns.boxplot(data=data, x= 'Knowledge', y='V1',orient='h')\n",
    "plt.xlabel('Knowledge', **axis_font)\n",
    "plt.ylabel('Belong to a Farmers Association', **axis_font)\n",
    "\n",
    "plt.subplot(1,2,2)\n",
    "sns.boxplot(data=data, x= 'Practice', y='V1', orient='h')\n",
    "plt.xlabel('Practice', **axis_font)\n",
    "plt.ylabel('Belong to a Farmers Association', **axis_font)\n",
    "\n",
    "plt.tight_layout()"
   ]
  },
  {
   "cell_type": "code",
   "execution_count": 69,
   "metadata": {},
   "outputs": [
    {
     "name": "stdout",
     "output_type": "stream",
     "text": [
      "Statistics=964.500 \n",
      " p=0.318\n",
      "Statistics=1011.500 \n",
      " p=0.153\n"
     ]
    }
   ],
   "source": [
    "#Knowledge vs Farmers Assocaiton\n",
    "stat, p = mannwhitneyu(data.loc[data['V1'] == 'Yes', 'Knowledge'], \n",
    "                       data.loc[data['V1'] == 'No', 'Knowledge'], \n",
    "                       alternative='two-sided')\n",
    "print('Statistics=%.3f \\n p=%.3f' % (stat, p))\n",
    "\n",
    "#Practice vs Farmers Association\n",
    "stat, p = mannwhitneyu(data.loc[data['V1'] == 'Yes', 'Practice'], \n",
    "                       data.loc[data['V1'] == 'No', 'Practice'],\n",
    "                      alternative='two-sided')\n",
    "print('Statistics=%.3f \\n p=%.3f' % (stat, p))"
   ]
  },
  {
   "cell_type": "markdown",
   "metadata": {},
   "source": [
    "#### Belonging to a farmers association did not siginificantly increase farmer knowledge or practice"
   ]
  },
  {
   "cell_type": "markdown",
   "metadata": {},
   "source": [
    "***"
   ]
  },
  {
   "cell_type": "markdown",
   "metadata": {},
   "source": [
    "### How does previous extension officer visits affect dependent variables"
   ]
  },
  {
   "cell_type": "code",
   "execution_count": 70,
   "metadata": {},
   "outputs": [
    {
     "data": {
      "text/plain": [
       "No     63\n",
       "Yes    31\n",
       "Name: V3, dtype: int64"
      ]
     },
     "execution_count": 70,
     "metadata": {},
     "output_type": "execute_result"
    }
   ],
   "source": [
    "#How many in each category\n",
    "data['V3'].value_counts()"
   ]
  },
  {
   "cell_type": "code",
   "execution_count": 71,
   "metadata": {},
   "outputs": [
    {
     "data": {
      "image/png": "[encoded data removed]",
      "text/plain": [
       "<Figure size 1080x360 with 2 Axes>"
      ]
     },
     "metadata": {
      "needs_background": "light"
     },
     "output_type": "display_data"
    }
   ],
   "source": [
    "axis_font = {'fontname':'Arial', 'size':'15'}\n",
    "plt.subplots(1, 2, figsize=(15,5))\n",
    "\n",
    "plt.subplot(1,2,1)\n",
    "sns.boxplot(data=data, x= 'Knowledge', y='V3',orient='h')\n",
    "plt.xlabel('Knowledge', **axis_font)\n",
    "plt.ylabel('Extension officer visit', **axis_font)\n",
    "\n",
    "plt.subplot(1,2,2)\n",
    "sns.boxplot(data=data, x= 'Practice', y='V3', orient='h')\n",
    "plt.xlabel('Practice', **axis_font)\n",
    "plt.ylabel('Extension officer visit', **axis_font)\n",
    "\n",
    "plt.tight_layout()"
   ]
  },
  {
   "cell_type": "code",
   "execution_count": 72,
   "metadata": {},
   "outputs": [
    {
     "data": {
      "text/html": [
       "<div>\n",
       "<style scoped>\n",
       "    .dataframe tbody tr th:only-of-type {\n",
       "        vertical-align: middle;\n",
       "    }\n",
       "\n",
       "    .dataframe tbody tr th {\n",
       "        vertical-align: top;\n",
       "    }\n",
       "\n",
       "    .dataframe thead tr th {\n",
       "        text-align: left;\n",
       "    }\n",
       "\n",
       "    .dataframe thead tr:last-of-type th {\n",
       "        text-align: right;\n",
       "    }\n",
       "</style>\n",
       "<table border=\"1\" class=\"dataframe\">\n",
       "  <thead>\n",
       "    <tr>\n",
       "      <th></th>\n",
       "      <th colspan=\"3\" halign=\"left\">Knowledge</th>\n",
       "      <th colspan=\"3\" halign=\"left\">Practice</th>\n",
       "    </tr>\n",
       "    <tr>\n",
       "      <th></th>\n",
       "      <th>count</th>\n",
       "      <th>mean</th>\n",
       "      <th>std</th>\n",
       "      <th>count</th>\n",
       "      <th>mean</th>\n",
       "      <th>std</th>\n",
       "    </tr>\n",
       "    <tr>\n",
       "      <th>V3</th>\n",
       "      <th></th>\n",
       "      <th></th>\n",
       "      <th></th>\n",
       "      <th></th>\n",
       "      <th></th>\n",
       "      <th></th>\n",
       "    </tr>\n",
       "  </thead>\n",
       "  <tbody>\n",
       "    <tr>\n",
       "      <th>No</th>\n",
       "      <td>63</td>\n",
       "      <td>2.349206</td>\n",
       "      <td>2.072545</td>\n",
       "      <td>63</td>\n",
       "      <td>4.079365</td>\n",
       "      <td>1.311261</td>\n",
       "    </tr>\n",
       "    <tr>\n",
       "      <th>Yes</th>\n",
       "      <td>31</td>\n",
       "      <td>2.516129</td>\n",
       "      <td>1.710185</td>\n",
       "      <td>31</td>\n",
       "      <td>4.774194</td>\n",
       "      <td>1.257237</td>\n",
       "    </tr>\n",
       "  </tbody>\n",
       "</table>\n",
       "</div>"
      ],
      "text/plain": [
       "    Knowledge                     Practice                    \n",
       "        count      mean       std    count      mean       std\n",
       "V3                                                            \n",
       "No         63  2.349206  2.072545       63  4.079365  1.311261\n",
       "Yes        31  2.516129  1.710185       31  4.774194  1.257237"
      ]
     },
     "execution_count": 72,
     "metadata": {},
     "output_type": "execute_result"
    }
   ],
   "source": [
    "data[['V3', 'Knowledge', 'Practice']].groupby('V3')['Knowledge','Practice'].agg(['count','mean','std'])"
   ]
  },
  {
   "cell_type": "code",
   "execution_count": 73,
   "metadata": {},
   "outputs": [
    {
     "name": "stdout",
     "output_type": "stream",
     "text": [
      "Statistics=1049.500 \n",
      " p=0.554\n",
      "Statistics=1315.500 \n",
      " p=0.005\n"
     ]
    }
   ],
   "source": [
    "#Knowledge vs Extension Visit\n",
    "stat, p = mannwhitneyu(data.loc[data['V3'] == 'Yes', 'Knowledge'], \n",
    "                       data.loc[data['V3'] == 'No', 'Knowledge'], \n",
    "                       alternative='two-sided')\n",
    "print('Statistics=%.3f \\n p=%.3f' % (stat, p))\n",
    "\n",
    "#Practice vs Extesnion Visit\n",
    "stat, p = mannwhitneyu(data.loc[data['V3'] == 'Yes', 'Practice'], \n",
    "                       data.loc[data['V3'] == 'No', 'Practice'],\n",
    "                      alternative='two-sided')\n",
    "print('Statistics=%.3f \\n p=%.3f' % (stat, p))"
   ]
  },
  {
   "cell_type": "markdown",
   "metadata": {},
   "source": [
    "#### It would seem that persons who had been visited by extension officers were more likely to have better practice than those who had not. The same however cannot be said about knowledge"
   ]
  },
  {
   "cell_type": "markdown",
   "metadata": {},
   "source": [
    "***"
   ]
  },
  {
   "cell_type": "markdown",
   "metadata": {},
   "source": [
    "### Scores by Age Group"
   ]
  },
  {
   "cell_type": "code",
   "execution_count": 74,
   "metadata": {},
   "outputs": [
    {
     "data": {
      "text/html": [
       "<div>\n",
       "<style scoped>\n",
       "    .dataframe tbody tr th:only-of-type {\n",
       "        vertical-align: middle;\n",
       "    }\n",
       "\n",
       "    .dataframe tbody tr th {\n",
       "        vertical-align: top;\n",
       "    }\n",
       "\n",
       "    .dataframe thead tr th {\n",
       "        text-align: left;\n",
       "    }\n",
       "\n",
       "    .dataframe thead tr:last-of-type th {\n",
       "        text-align: right;\n",
       "    }\n",
       "</style>\n",
       "<table border=\"1\" class=\"dataframe\">\n",
       "  <thead>\n",
       "    <tr>\n",
       "      <th></th>\n",
       "      <th colspan=\"3\" halign=\"left\">Knowledge</th>\n",
       "      <th colspan=\"3\" halign=\"left\">Practice</th>\n",
       "    </tr>\n",
       "    <tr>\n",
       "      <th></th>\n",
       "      <th>count</th>\n",
       "      <th>mean</th>\n",
       "      <th>std</th>\n",
       "      <th>count</th>\n",
       "      <th>mean</th>\n",
       "      <th>std</th>\n",
       "    </tr>\n",
       "    <tr>\n",
       "      <th>V4</th>\n",
       "      <th></th>\n",
       "      <th></th>\n",
       "      <th></th>\n",
       "      <th></th>\n",
       "      <th></th>\n",
       "      <th></th>\n",
       "    </tr>\n",
       "  </thead>\n",
       "  <tbody>\n",
       "    <tr>\n",
       "      <th>20-30</th>\n",
       "      <td>3</td>\n",
       "      <td>2.666667</td>\n",
       "      <td>2.081666</td>\n",
       "      <td>3</td>\n",
       "      <td>5.000000</td>\n",
       "      <td>1.000000</td>\n",
       "    </tr>\n",
       "    <tr>\n",
       "      <th>31-40</th>\n",
       "      <td>24</td>\n",
       "      <td>2.083333</td>\n",
       "      <td>1.886258</td>\n",
       "      <td>24</td>\n",
       "      <td>4.541667</td>\n",
       "      <td>0.883627</td>\n",
       "    </tr>\n",
       "    <tr>\n",
       "      <th>41-50</th>\n",
       "      <td>30</td>\n",
       "      <td>2.533333</td>\n",
       "      <td>1.655364</td>\n",
       "      <td>30</td>\n",
       "      <td>3.966667</td>\n",
       "      <td>1.542129</td>\n",
       "    </tr>\n",
       "    <tr>\n",
       "      <th>51-60</th>\n",
       "      <td>26</td>\n",
       "      <td>2.500000</td>\n",
       "      <td>2.158703</td>\n",
       "      <td>26</td>\n",
       "      <td>4.115385</td>\n",
       "      <td>1.395046</td>\n",
       "    </tr>\n",
       "    <tr>\n",
       "      <th>61 and above</th>\n",
       "      <td>17</td>\n",
       "      <td>2.117647</td>\n",
       "      <td>2.117851</td>\n",
       "      <td>17</td>\n",
       "      <td>4.470588</td>\n",
       "      <td>1.178858</td>\n",
       "    </tr>\n",
       "    <tr>\n",
       "      <th>below 20</th>\n",
       "      <td>1</td>\n",
       "      <td>7.000000</td>\n",
       "      <td>NaN</td>\n",
       "      <td>1</td>\n",
       "      <td>6.000000</td>\n",
       "      <td>NaN</td>\n",
       "    </tr>\n",
       "  </tbody>\n",
       "</table>\n",
       "</div>"
      ],
      "text/plain": [
       "             Knowledge                     Practice                    \n",
       "                 count      mean       std    count      mean       std\n",
       "V4                                                                     \n",
       "20-30                3  2.666667  2.081666        3  5.000000  1.000000\n",
       "31-40               24  2.083333  1.886258       24  4.541667  0.883627\n",
       "41-50               30  2.533333  1.655364       30  3.966667  1.542129\n",
       "51-60               26  2.500000  2.158703       26  4.115385  1.395046\n",
       "61 and above        17  2.117647  2.117851       17  4.470588  1.178858\n",
       "below 20             1  7.000000       NaN        1  6.000000       NaN"
      ]
     },
     "execution_count": 74,
     "metadata": {},
     "output_type": "execute_result"
    }
   ],
   "source": [
    "data[['V4', 'Knowledge', 'Practice']].groupby('V4')['Knowledge','Practice'].agg(['count','mean','std'])"
   ]
  },
  {
   "cell_type": "code",
   "execution_count": 75,
   "metadata": {},
   "outputs": [
    {
     "name": "stdout",
     "output_type": "stream",
     "text": [
      "Statistics=4.313 \n",
      " p=0.505\n",
      "Statistics=6.154 \n",
      " p=0.292\n"
     ]
    }
   ],
   "source": [
    "stat, p = kruskal(data.loc[data['V4'] == '31-40', 'Knowledge'], \n",
    "                  data.loc[data['V4'] == '41-50', 'Knowledge'],\n",
    "                  data.loc[data['V4'] == '51-60', 'Knowledge'],\n",
    "                  data.loc[data['V4'] == '61 and above', 'Knowledge'],\n",
    "                  data.loc[data['V4'] == '20-30', 'Knowledge'],\n",
    "                  data.loc[data['V4'] == 'below 20', 'Knowledge'], \n",
    "                )\n",
    "print('Statistics=%.3f \\n p=%.3f' % (stat, p))\n",
    "\n",
    "stat, p = kruskal(data.loc[data['V4'] == '31-40', 'Practice'], \n",
    "                  data.loc[data['V4'] == '41-50', 'Practice'],\n",
    "                  data.loc[data['V4'] == '51-60', 'Practice'],\n",
    "                  data.loc[data['V4'] == '61 and above', 'Practice'],\n",
    "                  data.loc[data['V4'] == '20-30', 'Practice'],\n",
    "                  data.loc[data['V4'] == 'below 20', 'Practice'],\n",
    "                 )\n",
    "print('Statistics=%.3f \\n p=%.3f' % (stat, p))"
   ]
  },
  {
   "cell_type": "code",
   "execution_count": 76,
   "metadata": {},
   "outputs": [
    {
     "data": {
      "image/png": "[encoded data removed]",
      "text/plain": [
       "<Figure size 1080x360 with 2 Axes>"
      ]
     },
     "metadata": {
      "needs_background": "light"
     },
     "output_type": "display_data"
    }
   ],
   "source": [
    "order = ['below 20', '20-30','31-40','41-50','51-60','61 and above']\n",
    "axis_font = {'fontname':'Arial', 'size':'15'}\n",
    "plt.subplots(1, 2, figsize=(15,5))\n",
    "\n",
    "plt.subplot(1,2,1)\n",
    "sns.boxplot(data=data, x= 'Knowledge', y='V4',orient='h', order=order)\n",
    "plt.xlabel('Knowledge', **axis_font)\n",
    "plt.ylabel('Age Group', **axis_font)\n",
    "\n",
    "plt.subplot(1,2,2)\n",
    "sns.boxplot(data=data, x= 'Practice', y='V4', orient='h', order=order)\n",
    "plt.xlabel('Practice', **axis_font)\n",
    "plt.ylabel('Age Group', **axis_font)\n",
    "\n",
    "plt.tight_layout()"
   ]
  },
  {
   "cell_type": "markdown",
   "metadata": {},
   "source": [
    "***"
   ]
  },
  {
   "cell_type": "markdown",
   "metadata": {},
   "source": [
    "### Gender versus dependent Variables"
   ]
  },
  {
   "cell_type": "code",
   "execution_count": 77,
   "metadata": {},
   "outputs": [
    {
     "data": {
      "text/plain": [
       "Male      80\n",
       "Female    21\n",
       "Name: V5, dtype: int64"
      ]
     },
     "execution_count": 77,
     "metadata": {},
     "output_type": "execute_result"
    }
   ],
   "source": [
    "# Number of persons by sex\n",
    "data['V5'].value_counts()"
   ]
  },
  {
   "cell_type": "code",
   "execution_count": 78,
   "metadata": {},
   "outputs": [
    {
     "data": {
      "text/html": [
       "<div>\n",
       "<style scoped>\n",
       "    .dataframe tbody tr th:only-of-type {\n",
       "        vertical-align: middle;\n",
       "    }\n",
       "\n",
       "    .dataframe tbody tr th {\n",
       "        vertical-align: top;\n",
       "    }\n",
       "\n",
       "    .dataframe thead tr th {\n",
       "        text-align: left;\n",
       "    }\n",
       "\n",
       "    .dataframe thead tr:last-of-type th {\n",
       "        text-align: right;\n",
       "    }\n",
       "</style>\n",
       "<table border=\"1\" class=\"dataframe\">\n",
       "  <thead>\n",
       "    <tr>\n",
       "      <th></th>\n",
       "      <th colspan=\"3\" halign=\"left\">Knowledge</th>\n",
       "      <th colspan=\"3\" halign=\"left\">Practice</th>\n",
       "    </tr>\n",
       "    <tr>\n",
       "      <th></th>\n",
       "      <th>count</th>\n",
       "      <th>mean</th>\n",
       "      <th>std</th>\n",
       "      <th>count</th>\n",
       "      <th>mean</th>\n",
       "      <th>std</th>\n",
       "    </tr>\n",
       "    <tr>\n",
       "      <th>V5</th>\n",
       "      <th></th>\n",
       "      <th></th>\n",
       "      <th></th>\n",
       "      <th></th>\n",
       "      <th></th>\n",
       "      <th></th>\n",
       "    </tr>\n",
       "  </thead>\n",
       "  <tbody>\n",
       "    <tr>\n",
       "      <th>Female</th>\n",
       "      <td>21</td>\n",
       "      <td>2.428571</td>\n",
       "      <td>2.181088</td>\n",
       "      <td>21</td>\n",
       "      <td>4.333333</td>\n",
       "      <td>1.390444</td>\n",
       "    </tr>\n",
       "    <tr>\n",
       "      <th>Male</th>\n",
       "      <td>80</td>\n",
       "      <td>2.387500</td>\n",
       "      <td>1.912608</td>\n",
       "      <td>80</td>\n",
       "      <td>4.262500</td>\n",
       "      <td>1.290116</td>\n",
       "    </tr>\n",
       "  </tbody>\n",
       "</table>\n",
       "</div>"
      ],
      "text/plain": [
       "       Knowledge                     Practice                    \n",
       "           count      mean       std    count      mean       std\n",
       "V5                                                               \n",
       "Female        21  2.428571  2.181088       21  4.333333  1.390444\n",
       "Male          80  2.387500  1.912608       80  4.262500  1.290116"
      ]
     },
     "execution_count": 78,
     "metadata": {},
     "output_type": "execute_result"
    }
   ],
   "source": [
    "#Average practice and knowledge score for each sex\n",
    "data[['V5','Knowledge','Practice']].groupby('V5')['Knowledge', 'Practice'].agg(['count','mean','std'])"
   ]
  },
  {
   "cell_type": "code",
   "execution_count": 79,
   "metadata": {},
   "outputs": [
    {
     "data": {
      "image/png": "[encoded data removed]",
      "text/plain": [
       "<Figure size 1080x360 with 2 Axes>"
      ]
     },
     "metadata": {
      "needs_background": "light"
     },
     "output_type": "display_data"
    }
   ],
   "source": [
    "axis_font = {'fontname':'Arial', 'size':'15'}\n",
    "plt.subplots(1, 2, figsize=(15,5))\n",
    "\n",
    "plt.subplot(1,2,1)\n",
    "sns.boxplot(data=data, x= 'Knowledge', y='V5',orient='h')\n",
    "plt.xlabel('Knowledge', **axis_font)\n",
    "plt.ylabel('Gender', **axis_font)\n",
    "\n",
    "plt.subplot(1,2,2)\n",
    "sns.boxplot(data=data, x= 'Practice', y='V5', orient='h')\n",
    "plt.xlabel('Practice', **axis_font)\n",
    "plt.ylabel('Gender', **axis_font)\n",
    "\n",
    "plt.tight_layout()"
   ]
  },
  {
   "cell_type": "code",
   "execution_count": 80,
   "metadata": {},
   "outputs": [
    {
     "name": "stdout",
     "output_type": "stream",
     "text": [
      "Statistics=846.000 \n",
      " p=0.963\n",
      "Statistics=782.500 \n",
      " p=0.622\n"
     ]
    }
   ],
   "source": [
    "#Knowledge vs Gender\n",
    "stat, p = mannwhitneyu(data.loc[data['V5'] == 'Male', 'Knowledge'], \n",
    "                       data.loc[data['V5'] == 'Female', 'Knowledge'], \n",
    "                       alternative='two-sided')\n",
    "print('Statistics=%.3f \\n p=%.3f' % (stat, p))\n",
    "\n",
    "#Practice vs Gender\n",
    "stat, p = mannwhitneyu(data.loc[data['V5'] == 'Male', 'Practice'], \n",
    "                       data.loc[data['V5'] == 'Female', 'Practice'],\n",
    "                      alternative='two-sided')\n",
    "print('Statistics=%.3f \\n p=%.3f' % (stat, p))"
   ]
  },
  {
   "cell_type": "markdown",
   "metadata": {},
   "source": [
    "***"
   ]
  },
  {
   "cell_type": "markdown",
   "metadata": {},
   "source": [
    "### Type of farming vs Dependents"
   ]
  },
  {
   "cell_type": "code",
   "execution_count": 81,
   "metadata": {},
   "outputs": [
    {
     "data": {
      "text/plain": [
       "Commercial farming     68\n",
       "Subsistence farming    28\n",
       "Name: V6, dtype: int64"
      ]
     },
     "execution_count": 81,
     "metadata": {},
     "output_type": "execute_result"
    }
   ],
   "source": [
    "# How many per group\n",
    "data['V6'].value_counts()"
   ]
  },
  {
   "cell_type": "code",
   "execution_count": 82,
   "metadata": {},
   "outputs": [
    {
     "data": {
      "text/html": [
       "<div>\n",
       "<style scoped>\n",
       "    .dataframe tbody tr th:only-of-type {\n",
       "        vertical-align: middle;\n",
       "    }\n",
       "\n",
       "    .dataframe tbody tr th {\n",
       "        vertical-align: top;\n",
       "    }\n",
       "\n",
       "    .dataframe thead tr th {\n",
       "        text-align: left;\n",
       "    }\n",
       "\n",
       "    .dataframe thead tr:last-of-type th {\n",
       "        text-align: right;\n",
       "    }\n",
       "</style>\n",
       "<table border=\"1\" class=\"dataframe\">\n",
       "  <thead>\n",
       "    <tr>\n",
       "      <th></th>\n",
       "      <th colspan=\"3\" halign=\"left\">Knowledge</th>\n",
       "      <th colspan=\"3\" halign=\"left\">Practice</th>\n",
       "    </tr>\n",
       "    <tr>\n",
       "      <th></th>\n",
       "      <th>count</th>\n",
       "      <th>mean</th>\n",
       "      <th>std</th>\n",
       "      <th>count</th>\n",
       "      <th>mean</th>\n",
       "      <th>std</th>\n",
       "    </tr>\n",
       "    <tr>\n",
       "      <th>V6</th>\n",
       "      <th></th>\n",
       "      <th></th>\n",
       "      <th></th>\n",
       "      <th></th>\n",
       "      <th></th>\n",
       "      <th></th>\n",
       "    </tr>\n",
       "  </thead>\n",
       "  <tbody>\n",
       "    <tr>\n",
       "      <th>Commercial farming</th>\n",
       "      <td>68</td>\n",
       "      <td>2.529412</td>\n",
       "      <td>1.927574</td>\n",
       "      <td>68</td>\n",
       "      <td>4.338235</td>\n",
       "      <td>1.241211</td>\n",
       "    </tr>\n",
       "    <tr>\n",
       "      <th>Subsistence farming</th>\n",
       "      <td>28</td>\n",
       "      <td>2.000000</td>\n",
       "      <td>1.825742</td>\n",
       "      <td>28</td>\n",
       "      <td>4.142857</td>\n",
       "      <td>1.325373</td>\n",
       "    </tr>\n",
       "  </tbody>\n",
       "</table>\n",
       "</div>"
      ],
      "text/plain": [
       "                    Knowledge                     Practice                    \n",
       "                        count      mean       std    count      mean       std\n",
       "V6                                                                            \n",
       "Commercial farming         68  2.529412  1.927574       68  4.338235  1.241211\n",
       "Subsistence farming        28  2.000000  1.825742       28  4.142857  1.325373"
      ]
     },
     "execution_count": 82,
     "metadata": {},
     "output_type": "execute_result"
    }
   ],
   "source": [
    "#Average practice and knowledge score for each group\n",
    "data[['V6','Knowledge','Practice']].groupby('V6')['Knowledge', 'Practice'].agg(['count','mean','std'])"
   ]
  },
  {
   "cell_type": "code",
   "execution_count": 83,
   "metadata": {},
   "outputs": [
    {
     "data": {
      "image/png": "[encoded data removed]",
      "text/plain": [
       "<Figure size 1080x360 with 2 Axes>"
      ]
     },
     "metadata": {
      "needs_background": "light"
     },
     "output_type": "display_data"
    }
   ],
   "source": [
    "axis_font = {'fontname':'Arial', 'size':'15'}\n",
    "plt.subplots(1, 2, figsize=(15,5))\n",
    "\n",
    "plt.subplot(1,2,1)\n",
    "sns.boxplot(data=data, x= 'Knowledge', y='V6',orient='h')\n",
    "plt.xlabel('Knowledge', **axis_font)\n",
    "plt.ylabel('Farming Type', **axis_font)\n",
    "\n",
    "plt.subplot(1,2,2)\n",
    "sns.boxplot(data=data, x= 'Practice', y='V6', orient='h')\n",
    "plt.xlabel('Practice', **axis_font)\n",
    "plt.ylabel('Farming Type', **axis_font)\n",
    "\n",
    "plt.tight_layout()"
   ]
  },
  {
   "cell_type": "code",
   "execution_count": 84,
   "metadata": {},
   "outputs": [
    {
     "name": "stdout",
     "output_type": "stream",
     "text": [
      "Statistics=1101.500 \n",
      " p=0.223\n",
      "Statistics=1058.000 \n",
      " p=0.378\n"
     ]
    }
   ],
   "source": [
    "#Knowledge vs farming type\n",
    "stat, p = mannwhitneyu(data.loc[data['V6'] == 'Commercial farming', 'Knowledge'], \n",
    "                       data.loc[data['V6'] == 'Subsistence farming', 'Knowledge'], \n",
    "                       alternative='two-sided')\n",
    "print('Statistics=%.3f \\n p=%.3f' % (stat, p))\n",
    "\n",
    "#Practice vs farming type\n",
    "stat, p = mannwhitneyu(data.loc[data['V6'] == 'Commercial farming', 'Practice'], \n",
    "                       data.loc[data['V6'] == 'Subsistence farming', 'Practice'],\n",
    "                      alternative='two-sided')\n",
    "print('Statistics=%.3f \\n p=%.3f' % (stat, p))"
   ]
  },
  {
   "cell_type": "markdown",
   "metadata": {},
   "source": [
    "***"
   ]
  },
  {
   "cell_type": "markdown",
   "metadata": {},
   "source": [
    "### Previous training vs Dependents"
   ]
  },
  {
   "cell_type": "code",
   "execution_count": 85,
   "metadata": {},
   "outputs": [
    {
     "data": {
      "text/plain": [
       "Yes    60\n",
       "No     39\n",
       "Name: V7, dtype: int64"
      ]
     },
     "execution_count": 85,
     "metadata": {},
     "output_type": "execute_result"
    }
   ],
   "source": [
    "# How many have attended farmers training before\n",
    "data['V7'].value_counts()"
   ]
  },
  {
   "cell_type": "code",
   "execution_count": 86,
   "metadata": {},
   "outputs": [
    {
     "data": {
      "text/html": [
       "<div>\n",
       "<style scoped>\n",
       "    .dataframe tbody tr th:only-of-type {\n",
       "        vertical-align: middle;\n",
       "    }\n",
       "\n",
       "    .dataframe tbody tr th {\n",
       "        vertical-align: top;\n",
       "    }\n",
       "\n",
       "    .dataframe thead tr th {\n",
       "        text-align: left;\n",
       "    }\n",
       "\n",
       "    .dataframe thead tr:last-of-type th {\n",
       "        text-align: right;\n",
       "    }\n",
       "</style>\n",
       "<table border=\"1\" class=\"dataframe\">\n",
       "  <thead>\n",
       "    <tr>\n",
       "      <th></th>\n",
       "      <th colspan=\"3\" halign=\"left\">Knowledge</th>\n",
       "      <th colspan=\"3\" halign=\"left\">Practice</th>\n",
       "    </tr>\n",
       "    <tr>\n",
       "      <th></th>\n",
       "      <th>count</th>\n",
       "      <th>mean</th>\n",
       "      <th>std</th>\n",
       "      <th>count</th>\n",
       "      <th>mean</th>\n",
       "      <th>std</th>\n",
       "    </tr>\n",
       "    <tr>\n",
       "      <th>V7</th>\n",
       "      <th></th>\n",
       "      <th></th>\n",
       "      <th></th>\n",
       "      <th></th>\n",
       "      <th></th>\n",
       "      <th></th>\n",
       "    </tr>\n",
       "  </thead>\n",
       "  <tbody>\n",
       "    <tr>\n",
       "      <th>No</th>\n",
       "      <td>39</td>\n",
       "      <td>1.743590</td>\n",
       "      <td>1.816850</td>\n",
       "      <td>39</td>\n",
       "      <td>4.025641</td>\n",
       "      <td>1.202786</td>\n",
       "    </tr>\n",
       "    <tr>\n",
       "      <th>Yes</th>\n",
       "      <td>60</td>\n",
       "      <td>2.733333</td>\n",
       "      <td>1.929843</td>\n",
       "      <td>60</td>\n",
       "      <td>4.400000</td>\n",
       "      <td>1.355466</td>\n",
       "    </tr>\n",
       "  </tbody>\n",
       "</table>\n",
       "</div>"
      ],
      "text/plain": [
       "    Knowledge                     Practice                    \n",
       "        count      mean       std    count      mean       std\n",
       "V7                                                            \n",
       "No         39  1.743590  1.816850       39  4.025641  1.202786\n",
       "Yes        60  2.733333  1.929843       60  4.400000  1.355466"
      ]
     },
     "execution_count": 86,
     "metadata": {},
     "output_type": "execute_result"
    }
   ],
   "source": [
    "#Average practice and knowledge score for each group\n",
    "data[['V7','Knowledge','Practice']].groupby('V7')['Knowledge', 'Practice'].agg(['count','mean','std'])"
   ]
  },
  {
   "cell_type": "code",
   "execution_count": 87,
   "metadata": {},
   "outputs": [
    {
     "data": {
      "image/png": "[encoded data removed]",
      "text/plain": [
       "<Figure size 1080x360 with 2 Axes>"
      ]
     },
     "metadata": {
      "needs_background": "light"
     },
     "output_type": "display_data"
    }
   ],
   "source": [
    "axis_font = {'fontname':'Arial', 'size':'15'}\n",
    "plt.subplots(1, 2, figsize=(15,5))\n",
    "\n",
    "plt.subplot(1,2,1)\n",
    "sns.boxplot(data=data, x= 'Knowledge', y='V7',orient='h')\n",
    "plt.xlabel('Knowledge', **axis_font)\n",
    "plt.ylabel('Previous Training', **axis_font)\n",
    "\n",
    "plt.subplot(1,2,2)\n",
    "sns.boxplot(data=data, x= 'Practice', y='V7', orient='h')\n",
    "plt.xlabel('Practice', **axis_font)\n",
    "plt.ylabel('Previous Training', **axis_font)\n",
    "\n",
    "plt.tight_layout()"
   ]
  },
  {
   "cell_type": "code",
   "execution_count": 88,
   "metadata": {},
   "outputs": [
    {
     "name": "stdout",
     "output_type": "stream",
     "text": [
      "Statistics=1521.500 \n",
      " p=0.011\n",
      "Statistics=1413.000 \n",
      " p=0.072\n"
     ]
    }
   ],
   "source": [
    "#Knowledge vs previous training\n",
    "stat, p = mannwhitneyu(data.loc[data['V7'] == 'Yes', 'Knowledge'], \n",
    "                       data.loc[data['V7'] == 'No', 'Knowledge'], \n",
    "                       alternative='two-sided')\n",
    "print('Statistics=%.3f \\n p=%.3f' % (stat, p))\n",
    "\n",
    "#Practice vs previous training\n",
    "stat, p = mannwhitneyu(data.loc[data['V7'] == 'Yes', 'Practice'], \n",
    "                       data.loc[data['V7'] == 'No', 'Practice'],\n",
    "                      alternative='two-sided')\n",
    "print('Statistics=%.3f \\n p=%.3f' % (stat, p))"
   ]
  },
  {
   "cell_type": "markdown",
   "metadata": {},
   "source": [
    "### Are those in farmers association more likely to have attended trainings in the past"
   ]
  },
  {
   "cell_type": "code",
   "execution_count": 89,
   "metadata": {},
   "outputs": [],
   "source": [
    "# Create crosstab of variables of interest\n",
    "tab = pd.crosstab(data['V1'], data['V7'])"
   ]
  },
  {
   "cell_type": "code",
   "execution_count": 90,
   "metadata": {},
   "outputs": [
    {
     "data": {
      "text/html": [
       "<div>\n",
       "<style scoped>\n",
       "    .dataframe tbody tr th:only-of-type {\n",
       "        vertical-align: middle;\n",
       "    }\n",
       "\n",
       "    .dataframe tbody tr th {\n",
       "        vertical-align: top;\n",
       "    }\n",
       "\n",
       "    .dataframe thead th {\n",
       "        text-align: right;\n",
       "    }\n",
       "</style>\n",
       "<table border=\"1\" class=\"dataframe\">\n",
       "  <thead>\n",
       "    <tr style=\"text-align: right;\">\n",
       "      <th>V7</th>\n",
       "      <th>No</th>\n",
       "      <th>Yes</th>\n",
       "    </tr>\n",
       "    <tr>\n",
       "      <th>V1</th>\n",
       "      <th></th>\n",
       "      <th></th>\n",
       "    </tr>\n",
       "  </thead>\n",
       "  <tbody>\n",
       "    <tr>\n",
       "      <th>No</th>\n",
       "      <td>15</td>\n",
       "      <td>7</td>\n",
       "    </tr>\n",
       "    <tr>\n",
       "      <th>Yes</th>\n",
       "      <td>22</td>\n",
       "      <td>53</td>\n",
       "    </tr>\n",
       "  </tbody>\n",
       "</table>\n",
       "</div>"
      ],
      "text/plain": [
       "V7   No  Yes\n",
       "V1          \n",
       "No   15    7\n",
       "Yes  22   53"
      ]
     },
     "execution_count": 90,
     "metadata": {},
     "output_type": "execute_result"
    }
   ],
   "source": [
    "tab"
   ]
  },
  {
   "cell_type": "code",
   "execution_count": 91,
   "metadata": {},
   "outputs": [],
   "source": [
    "from scipy.stats import chi2_contingency as chi2"
   ]
  },
  {
   "cell_type": "code",
   "execution_count": 92,
   "metadata": {},
   "outputs": [
    {
     "data": {
      "text/plain": [
       "(9.296329852579852,\n",
       " 0.0022961339893910293,\n",
       " 1,\n",
       " array([[ 8.39175258, 13.60824742],\n",
       "        [28.60824742, 46.39175258]]))"
      ]
     },
     "execution_count": 92,
     "metadata": {},
     "output_type": "execute_result"
    }
   ],
   "source": [
    "chi2(tab)"
   ]
  },
  {
   "cell_type": "markdown",
   "metadata": {},
   "source": [
    "#### Persons who belong to a farmers association are more likely to have attended a training before"
   ]
  },
  {
   "cell_type": "markdown",
   "metadata": {},
   "source": [
    "### Are those visited by extension officers more likely to have attended trainings in the past"
   ]
  },
  {
   "cell_type": "code",
   "execution_count": 93,
   "metadata": {},
   "outputs": [
    {
     "data": {
      "text/plain": [
       "(4.9685363289632605,\n",
       " 0.025812482032974267,\n",
       " 1,\n",
       " array([[24.65217391, 38.34782609],\n",
       "        [11.34782609, 17.65217391]]))"
      ]
     },
     "execution_count": 93,
     "metadata": {},
     "output_type": "execute_result"
    }
   ],
   "source": [
    "tab2 = pd.crosstab(data['V3'], data['V7'])\n",
    "chi2(tab2)"
   ]
  },
  {
   "cell_type": "markdown",
   "metadata": {},
   "source": [
    "#### Persons who have been visited by an extension officer were more likely to have attended a training before"
   ]
  },
  {
   "cell_type": "markdown",
   "metadata": {},
   "source": [
    "***"
   ]
  },
  {
   "cell_type": "markdown",
   "metadata": {},
   "source": [
    "# Distribution of correct responses"
   ]
  },
  {
   "cell_type": "code",
   "execution_count": 94,
   "metadata": {},
   "outputs": [],
   "source": [
    "# How many persons got each knowledge question correct\n",
    "knowledge_cols = ['K1','K2','K3','K4','K5','K6','K7','K8']\n",
    "count=[]\n",
    "percent=[]\n",
    "\n",
    "for i in knowledge_cols:\n",
    "    x= data[i].value_counts()[1]\n",
    "    count.append(x)\n",
    "    y= round((x/101)*100, 2)\n",
    "    percent.append(y)"
   ]
  },
  {
   "cell_type": "code",
   "execution_count": 95,
   "metadata": {},
   "outputs": [],
   "source": [
    "knowledge = pd.DataFrame(list(zip(knowledge_cols, count, percent)),\n",
    "              columns=['Question','N', '%'])"
   ]
  },
  {
   "cell_type": "code",
   "execution_count": 96,
   "metadata": {},
   "outputs": [
    {
     "data": {
      "text/html": [
       "<div>\n",
       "<style scoped>\n",
       "    .dataframe tbody tr th:only-of-type {\n",
       "        vertical-align: middle;\n",
       "    }\n",
       "\n",
       "    .dataframe tbody tr th {\n",
       "        vertical-align: top;\n",
       "    }\n",
       "\n",
       "    .dataframe thead th {\n",
       "        text-align: right;\n",
       "    }\n",
       "</style>\n",
       "<table border=\"1\" class=\"dataframe\">\n",
       "  <thead>\n",
       "    <tr style=\"text-align: right;\">\n",
       "      <th></th>\n",
       "      <th>Question</th>\n",
       "      <th>N</th>\n",
       "      <th>%</th>\n",
       "    </tr>\n",
       "  </thead>\n",
       "  <tbody>\n",
       "    <tr>\n",
       "      <th>0</th>\n",
       "      <td>K1</td>\n",
       "      <td>31</td>\n",
       "      <td>30.69</td>\n",
       "    </tr>\n",
       "    <tr>\n",
       "      <th>1</th>\n",
       "      <td>K2</td>\n",
       "      <td>32</td>\n",
       "      <td>31.68</td>\n",
       "    </tr>\n",
       "    <tr>\n",
       "      <th>2</th>\n",
       "      <td>K3</td>\n",
       "      <td>51</td>\n",
       "      <td>50.50</td>\n",
       "    </tr>\n",
       "    <tr>\n",
       "      <th>3</th>\n",
       "      <td>K4</td>\n",
       "      <td>27</td>\n",
       "      <td>26.73</td>\n",
       "    </tr>\n",
       "    <tr>\n",
       "      <th>4</th>\n",
       "      <td>K5</td>\n",
       "      <td>29</td>\n",
       "      <td>28.71</td>\n",
       "    </tr>\n",
       "    <tr>\n",
       "      <th>5</th>\n",
       "      <td>K6</td>\n",
       "      <td>13</td>\n",
       "      <td>12.87</td>\n",
       "    </tr>\n",
       "    <tr>\n",
       "      <th>6</th>\n",
       "      <td>K7</td>\n",
       "      <td>30</td>\n",
       "      <td>29.70</td>\n",
       "    </tr>\n",
       "    <tr>\n",
       "      <th>7</th>\n",
       "      <td>K8</td>\n",
       "      <td>29</td>\n",
       "      <td>28.71</td>\n",
       "    </tr>\n",
       "  </tbody>\n",
       "</table>\n",
       "</div>"
      ],
      "text/plain": [
       "  Question   N      %\n",
       "0       K1  31  30.69\n",
       "1       K2  32  31.68\n",
       "2       K3  51  50.50\n",
       "3       K4  27  26.73\n",
       "4       K5  29  28.71\n",
       "5       K6  13  12.87\n",
       "6       K7  30  29.70\n",
       "7       K8  29  28.71"
      ]
     },
     "execution_count": 96,
     "metadata": {},
     "output_type": "execute_result"
    }
   ],
   "source": [
    "knowledge"
   ]
  },
  {
   "cell_type": "code",
   "execution_count": 97,
   "metadata": {},
   "outputs": [],
   "source": [
    "# How many persons got each practice question correct\n",
    "practice_cols = ['P1','P2','P3','P4','P5','P6','P7']\n",
    "count2=[]\n",
    "percent2=[]\n",
    "\n",
    "for i in practice_cols:\n",
    "    x1= data[i].value_counts()[1]\n",
    "    count2.append(x1)\n",
    "    y1= round((x1/101)*100, 2)\n",
    "    percent2.append(y1)"
   ]
  },
  {
   "cell_type": "code",
   "execution_count": 98,
   "metadata": {},
   "outputs": [],
   "source": [
    "practice = pd.DataFrame(list(zip(practice_cols, count2, percent2)),\n",
    "              columns=['Practice','N', '%'])"
   ]
  },
  {
   "cell_type": "code",
   "execution_count": 99,
   "metadata": {},
   "outputs": [
    {
     "data": {
      "text/html": [
       "<div>\n",
       "<style scoped>\n",
       "    .dataframe tbody tr th:only-of-type {\n",
       "        vertical-align: middle;\n",
       "    }\n",
       "\n",
       "    .dataframe tbody tr th {\n",
       "        vertical-align: top;\n",
       "    }\n",
       "\n",
       "    .dataframe thead th {\n",
       "        text-align: right;\n",
       "    }\n",
       "</style>\n",
       "<table border=\"1\" class=\"dataframe\">\n",
       "  <thead>\n",
       "    <tr style=\"text-align: right;\">\n",
       "      <th></th>\n",
       "      <th>Practice</th>\n",
       "      <th>N</th>\n",
       "      <th>%</th>\n",
       "    </tr>\n",
       "  </thead>\n",
       "  <tbody>\n",
       "    <tr>\n",
       "      <th>0</th>\n",
       "      <td>P1</td>\n",
       "      <td>68</td>\n",
       "      <td>67.33</td>\n",
       "    </tr>\n",
       "    <tr>\n",
       "      <th>1</th>\n",
       "      <td>P2</td>\n",
       "      <td>42</td>\n",
       "      <td>41.58</td>\n",
       "    </tr>\n",
       "    <tr>\n",
       "      <th>2</th>\n",
       "      <td>P3</td>\n",
       "      <td>25</td>\n",
       "      <td>24.75</td>\n",
       "    </tr>\n",
       "    <tr>\n",
       "      <th>3</th>\n",
       "      <td>P4</td>\n",
       "      <td>37</td>\n",
       "      <td>36.63</td>\n",
       "    </tr>\n",
       "    <tr>\n",
       "      <th>4</th>\n",
       "      <td>P5</td>\n",
       "      <td>83</td>\n",
       "      <td>82.18</td>\n",
       "    </tr>\n",
       "    <tr>\n",
       "      <th>5</th>\n",
       "      <td>P6</td>\n",
       "      <td>95</td>\n",
       "      <td>94.06</td>\n",
       "    </tr>\n",
       "    <tr>\n",
       "      <th>6</th>\n",
       "      <td>P7</td>\n",
       "      <td>82</td>\n",
       "      <td>81.19</td>\n",
       "    </tr>\n",
       "  </tbody>\n",
       "</table>\n",
       "</div>"
      ],
      "text/plain": [
       "  Practice   N      %\n",
       "0       P1  68  67.33\n",
       "1       P2  42  41.58\n",
       "2       P3  25  24.75\n",
       "3       P4  37  36.63\n",
       "4       P5  83  82.18\n",
       "5       P6  95  94.06\n",
       "6       P7  82  81.19"
      ]
     },
     "execution_count": 99,
     "metadata": {},
     "output_type": "execute_result"
    }
   ],
   "source": [
    "practice"
   ]
  },
  {
   "cell_type": "markdown",
   "metadata": {},
   "source": [
    "# Relationship between Knowledge and Practice"
   ]
  },
  {
   "cell_type": "code",
   "execution_count": 100,
   "metadata": {},
   "outputs": [
    {
     "data": {
      "text/plain": [
       "SpearmanrResult(correlation=0.3165194947732972, pvalue=0.0012609631250227531)"
      ]
     },
     "execution_count": 100,
     "metadata": {},
     "output_type": "execute_result"
    }
   ],
   "source": [
    "spearmanr(data['Knowledge'], data['Practice'])"
   ]
  },
  {
   "cell_type": "code",
   "execution_count": 106,
   "metadata": {},
   "outputs": [
    {
     "data": {
      "text/plain": [
       "SpearmanrResult(correlation=0.03455323652593354, pvalue=0.7506939223751834)"
      ]
     },
     "execution_count": 106,
     "metadata": {},
     "output_type": "execute_result"
    }
   ],
   "source": [
    "spearmanr(data['V30'], data['Practice'], nan_policy='omit')"
   ]
  },
  {
   "cell_type": "markdown",
   "metadata": {},
   "source": [
    "---"
   ]
  },
  {
   "cell_type": "markdown",
   "metadata": {},
   "source": [
    "# Visualisation "
   ]
  },
  {
   "cell_type": "code",
   "execution_count": 101,
   "metadata": {},
   "outputs": [
    {
     "data": {
      "image/png": "[encoded data removed]",
      "text/plain": [
       "<Figure size 1080x576 with 8 Axes>"
      ]
     },
     "metadata": {
      "needs_background": "light"
     },
     "output_type": "display_data"
    }
   ],
   "source": [
    "plt.figure(figsize=(15,8))\n",
    "\n",
    "plt.subplot(3, 3, 1)\n",
    "sns.boxplot(data=data, x='Knowledge', y='V1')\n",
    "plt.ylabel(\"\")\n",
    "plt.title('A: Belong to a farners associaton', fontsize=13, fontweight='bold', loc='left')\n",
    "\n",
    "plt.subplot(3,3,2)\n",
    "sns.boxplot(data=data, x='Knowledge', y='V3')\n",
    "plt.ylabel(\"\")\n",
    "plt.title('B: Visited by an extension officer', fontsize=13, fontweight='bold', loc='left')\n",
    "\n",
    "plt.subplot(3,3,3)\n",
    "sns.boxplot(data=data, x='Knowledge', y='V4', \n",
    "            order=['below 20', '20-30','31-40','41-50','51-60','61 and above'])\n",
    "plt.ylabel(\"\")\n",
    "plt.title('C: Age Group', fontsize=13, fontweight='bold', loc='left')\n",
    "\n",
    "plt.subplot(3,3,4)\n",
    "sns.boxplot(data=data, x='Knowledge', y='V5')\n",
    "plt.ylabel(\"\")\n",
    "plt.title('D: Gender', fontsize=13, fontweight='bold', loc='left')\n",
    "\n",
    "plt.subplot(3,3,6)\n",
    "sns.distplot(data['Knowledge'], kde=False)\n",
    "plt.title('E: Knowledge Score Distribution', fontsize=13, fontweight='bold', loc='left')\n",
    "\n",
    "plt.subplot(3,3,7)\n",
    "sns.boxplot(data=data, x='Knowledge', y='V6')\n",
    "plt.ylabel(\"\")\n",
    "plt.yticks(rotation= 45)\n",
    "plt.title('F: Farming Type', fontsize=13, fontweight='bold', loc='left')\n",
    "\n",
    "plt.subplot(3,3,8)\n",
    "sns.boxplot(data=data, x='Knowledge', y='V7')\n",
    "plt.ylabel(\"\")\n",
    "plt.title('G: Previous Training', fontsize=13, fontweight='bold', loc='left')\n",
    "\n",
    "plt.subplot(3,3,9)\n",
    "sns.boxplot(data=data, x='Knowledge', y='Seen_One')\n",
    "plt.ylabel(\"\")\n",
    "plt.title('H: Seen one symptom', fontsize=13, fontweight='bold', loc='left')\n",
    "\n",
    "\n",
    "plt.tight_layout()\n",
    "\n",
    "plt.savefig('Knowledge.png', dpi=500)"
   ]
  },
  {
   "cell_type": "code",
   "execution_count": 102,
   "metadata": {},
   "outputs": [
    {
     "data": {
      "image/png": "[encoded data removed]",
      "text/plain": [
       "<Figure size 1080x576 with 8 Axes>"
      ]
     },
     "metadata": {
      "needs_background": "light"
     },
     "output_type": "display_data"
    }
   ],
   "source": [
    "plt.figure(figsize=(15,8))\n",
    "\n",
    "plt.subplot(3, 3, 1)\n",
    "sns.boxplot(data=data, x='Practice', y='V1')\n",
    "plt.ylabel(\"\")\n",
    "plt.title('A: Belong to a farners associaton', fontsize=13, fontweight='bold', loc='left')\n",
    "\n",
    "plt.subplot(3,3,2)\n",
    "sns.boxplot(data=data, x='Practice', y='V3')\n",
    "plt.ylabel(\"\")\n",
    "plt.title('B: Visited by an extension officer', fontsize=13, fontweight='bold', loc='left')\n",
    "\n",
    "plt.subplot(3,3,3)\n",
    "sns.boxplot(data=data, x='Practice', y='V4', \n",
    "            order=['below 20', '20-30','31-40','41-50','51-60','61 and above'])\n",
    "plt.ylabel(\"\")\n",
    "plt.title('C: Age Group', fontsize=13, fontweight='bold', loc='left')\n",
    "\n",
    "plt.subplot(3,3,4)\n",
    "sns.boxplot(data=data, x='Practice', y='V5')\n",
    "plt.ylabel(\"\")\n",
    "plt.title('D: Gender', fontsize=13, fontweight='bold', loc='left')\n",
    "\n",
    "plt.subplot(3,3,6)\n",
    "sns.distplot(data['Practice'], bins=5, kde=False)\n",
    "plt.title('E: Practice Score Distribution', fontsize=13, fontweight='bold', loc='left')\n",
    "\n",
    "plt.subplot(3,3,7)\n",
    "sns.boxplot(data=data, x='Practice', y='V6')\n",
    "plt.ylabel(\"\")\n",
    "plt.yticks(rotation= 45)\n",
    "plt.title('F: Farming Type', fontsize=13, fontweight='bold', loc='left')\n",
    "\n",
    "plt.subplot(3,3,8)\n",
    "sns.boxplot(data=data, x='Practice', y='V7')\n",
    "plt.ylabel(\"\")\n",
    "plt.title('G: Previous Training', fontsize=13, fontweight='bold', loc='left')\n",
    "\n",
    "plt.subplot(3,3,9)\n",
    "sns.boxplot(data=data, x='Practice', y='Seen_One')\n",
    "plt.ylabel(\"\")\n",
    "plt.title('H: Seen one symptom', fontsize=13, fontweight='bold', loc='left')\n",
    "\n",
    "\n",
    "plt.tight_layout()\n",
    "\n",
    "plt.savefig('Practice.png', dpi=500)"
   ]
  },
  {
   "cell_type": "code",
   "execution_count": null,
   "metadata": {},
   "outputs": [],
   "source": []
  }
 ],
 "metadata": {
  "kernelspec": {
   "display_name": "Python 3",
   "language": "python",
   "name": "python3"
  },
  "language_info": {
   "codemirror_mode": {
    "name": "ipython",
    "version": 3
   },
   "file_extension": ".py",
   "mimetype": "text/x-python",
   "name": "python",
   "nbconvert_exporter": "python",
   "pygments_lexer": "ipython3",
   "version": "3.6.4"
  }
 },
 "nbformat": 4,
 "nbformat_minor": 2
}
